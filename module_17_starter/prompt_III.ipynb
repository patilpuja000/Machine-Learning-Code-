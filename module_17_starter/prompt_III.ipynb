{
 "cells": [
  {
   "cell_type": "markdown",
   "metadata": {},
   "source": [
    "# Practical Application III: Comparing Classifiers\n",
    "\n",
    "**Overview**: In this practical application, your goal is to compare the performance of the classifiers we encountered in this section, namely K Nearest Neighbor, Logistic Regression, Decision Trees, and Support Vector Machines.  We will utilize a dataset related to marketing bank products over the telephone.  \n",
    "\n"
   ]
  },
  {
   "cell_type": "markdown",
   "metadata": {},
   "source": [
    "### Getting Started\n",
    "\n",
    "Our dataset comes from the UCI Machine Learning repository [link](https://archive.ics.uci.edu/ml/datasets/bank+marketing).  The data is from a Portugese banking institution and is a collection of the results of multiple marketing campaigns.  We will make use of the article accompanying the dataset [here](CRISP-DM-BANK.pdf) for more information on the data and features.\n",
    "\n"
   ]
  },
  {
   "cell_type": "markdown",
   "metadata": {},
   "source": [
    "### Problem 1: Understanding the Data\n",
    "\n",
    "To gain a better understanding of the data, please read the information provided in the UCI link above, and examine the **Materials and Methods** section of the paper.  How many marketing campaigns does this data represent?"
   ]
  },
  {
   "cell_type": "markdown",
   "metadata": {},
   "source": [
    "<h2>The business goal is to find a model that can explain success of a contact, i.e. if the client subscribes the deposit. Such model can increase campaign efficiency by identifying \n",
    "the main characteristics that affect success, helping in a better management of the available resources (e.g. human effort, phone calls, time) and selection of a high quality and \n",
    "affordable set of potential buying customers. </h2>"
   ]
  },
  {
   "cell_type": "markdown",
   "metadata": {},
   "source": [
    "### Problem 2: Read in the Data\n",
    "\n",
    "Use pandas to read in the dataset `bank-additional-full.csv` and assign to a meaningful variable name."
   ]
  },
  {
   "cell_type": "code",
   "execution_count": 120,
   "metadata": {},
   "outputs": [],
   "source": [
    "import warnings"
   ]
  },
  {
   "cell_type": "code",
   "execution_count": 121,
   "metadata": {},
   "outputs": [],
   "source": [
    "import pandas as pd\n",
    "import numpy as np\n",
    "import seaborn as sns\n",
    "import matplotlib.image as mpimg\n",
    "import matplotlib.pyplot as plt\n",
    "\n",
    "from sklearn.preprocessing import StandardScaler, OneHotEncoder, OrdinalEncoder\n",
    "from sklearn.model_selection import GridSearchCV, train_test_split\n",
    "from sklearn.neighbors import KNeighborsClassifier\n",
    "from sklearn.metrics import confusion_matrix, precision_score,roc_auc_score, recall_score, accuracy_score,f1_score, ConfusionMatrixDisplay\n",
    "from sklearn.inspection import permutation_importance\n",
    "from imblearn.over_sampling import SMOTE\n",
    "from sklearn.naive_bayes import GaussianNB\n",
    "\n",
    "from sklearn.model_selection import cross_val_score\n",
    "from collections import Counter\n",
    "\n",
    "from sklearn.metrics import ConfusionMatrixDisplay, RocCurveDisplay\n",
    "from sklearn.metrics import confusion_matrix, roc_curve, auc\n",
    "from sklearn.metrics import auc as skl_auc\n",
    "\n",
    "\n",
    "from sklearn.pipeline import Pipeline\n",
    "from sklearn import set_config\n",
    "from sklearn.dummy import DummyClassifier\n",
    "\n",
    "from sklearn.linear_model import LogisticRegression\n",
    "from sklearn.tree import DecisionTreeClassifier\n",
    "from sklearn.svm import SVC\n",
    "from sklearn.multiclass import OneVsOneClassifier\n",
    "\n",
    "warnings.simplefilter(action='ignore', category=FutureWarning)\n",
    "set_config(\"display\")"
   ]
  },
  {
   "cell_type": "code",
   "execution_count": 122,
   "metadata": {},
   "outputs": [],
   "source": [
    "df = pd.read_csv('data/bank-additional-full.csv', sep = ';')"
   ]
  },
  {
   "cell_type": "code",
   "execution_count": 123,
   "metadata": {},
   "outputs": [
    {
     "data": {
      "text/html": [
       "<div>\n",
       "<style scoped>\n",
       "    .dataframe tbody tr th:only-of-type {\n",
       "        vertical-align: middle;\n",
       "    }\n",
       "\n",
       "    .dataframe tbody tr th {\n",
       "        vertical-align: top;\n",
       "    }\n",
       "\n",
       "    .dataframe thead th {\n",
       "        text-align: right;\n",
       "    }\n",
       "</style>\n",
       "<table border=\"1\" class=\"dataframe\">\n",
       "  <thead>\n",
       "    <tr style=\"text-align: right;\">\n",
       "      <th></th>\n",
       "      <th>age</th>\n",
       "      <th>job</th>\n",
       "      <th>marital</th>\n",
       "      <th>education</th>\n",
       "      <th>default</th>\n",
       "      <th>housing</th>\n",
       "      <th>loan</th>\n",
       "      <th>contact</th>\n",
       "      <th>month</th>\n",
       "      <th>day_of_week</th>\n",
       "      <th>...</th>\n",
       "      <th>campaign</th>\n",
       "      <th>pdays</th>\n",
       "      <th>previous</th>\n",
       "      <th>poutcome</th>\n",
       "      <th>emp.var.rate</th>\n",
       "      <th>cons.price.idx</th>\n",
       "      <th>cons.conf.idx</th>\n",
       "      <th>euribor3m</th>\n",
       "      <th>nr.employed</th>\n",
       "      <th>y</th>\n",
       "    </tr>\n",
       "  </thead>\n",
       "  <tbody>\n",
       "    <tr>\n",
       "      <th>0</th>\n",
       "      <td>56</td>\n",
       "      <td>housemaid</td>\n",
       "      <td>married</td>\n",
       "      <td>basic.4y</td>\n",
       "      <td>no</td>\n",
       "      <td>no</td>\n",
       "      <td>no</td>\n",
       "      <td>telephone</td>\n",
       "      <td>may</td>\n",
       "      <td>mon</td>\n",
       "      <td>...</td>\n",
       "      <td>1</td>\n",
       "      <td>999</td>\n",
       "      <td>0</td>\n",
       "      <td>nonexistent</td>\n",
       "      <td>1.1</td>\n",
       "      <td>93.994</td>\n",
       "      <td>-36.4</td>\n",
       "      <td>4.857</td>\n",
       "      <td>5191.0</td>\n",
       "      <td>no</td>\n",
       "    </tr>\n",
       "    <tr>\n",
       "      <th>1</th>\n",
       "      <td>57</td>\n",
       "      <td>services</td>\n",
       "      <td>married</td>\n",
       "      <td>high.school</td>\n",
       "      <td>unknown</td>\n",
       "      <td>no</td>\n",
       "      <td>no</td>\n",
       "      <td>telephone</td>\n",
       "      <td>may</td>\n",
       "      <td>mon</td>\n",
       "      <td>...</td>\n",
       "      <td>1</td>\n",
       "      <td>999</td>\n",
       "      <td>0</td>\n",
       "      <td>nonexistent</td>\n",
       "      <td>1.1</td>\n",
       "      <td>93.994</td>\n",
       "      <td>-36.4</td>\n",
       "      <td>4.857</td>\n",
       "      <td>5191.0</td>\n",
       "      <td>no</td>\n",
       "    </tr>\n",
       "    <tr>\n",
       "      <th>2</th>\n",
       "      <td>37</td>\n",
       "      <td>services</td>\n",
       "      <td>married</td>\n",
       "      <td>high.school</td>\n",
       "      <td>no</td>\n",
       "      <td>yes</td>\n",
       "      <td>no</td>\n",
       "      <td>telephone</td>\n",
       "      <td>may</td>\n",
       "      <td>mon</td>\n",
       "      <td>...</td>\n",
       "      <td>1</td>\n",
       "      <td>999</td>\n",
       "      <td>0</td>\n",
       "      <td>nonexistent</td>\n",
       "      <td>1.1</td>\n",
       "      <td>93.994</td>\n",
       "      <td>-36.4</td>\n",
       "      <td>4.857</td>\n",
       "      <td>5191.0</td>\n",
       "      <td>no</td>\n",
       "    </tr>\n",
       "    <tr>\n",
       "      <th>3</th>\n",
       "      <td>40</td>\n",
       "      <td>admin.</td>\n",
       "      <td>married</td>\n",
       "      <td>basic.6y</td>\n",
       "      <td>no</td>\n",
       "      <td>no</td>\n",
       "      <td>no</td>\n",
       "      <td>telephone</td>\n",
       "      <td>may</td>\n",
       "      <td>mon</td>\n",
       "      <td>...</td>\n",
       "      <td>1</td>\n",
       "      <td>999</td>\n",
       "      <td>0</td>\n",
       "      <td>nonexistent</td>\n",
       "      <td>1.1</td>\n",
       "      <td>93.994</td>\n",
       "      <td>-36.4</td>\n",
       "      <td>4.857</td>\n",
       "      <td>5191.0</td>\n",
       "      <td>no</td>\n",
       "    </tr>\n",
       "    <tr>\n",
       "      <th>4</th>\n",
       "      <td>56</td>\n",
       "      <td>services</td>\n",
       "      <td>married</td>\n",
       "      <td>high.school</td>\n",
       "      <td>no</td>\n",
       "      <td>no</td>\n",
       "      <td>yes</td>\n",
       "      <td>telephone</td>\n",
       "      <td>may</td>\n",
       "      <td>mon</td>\n",
       "      <td>...</td>\n",
       "      <td>1</td>\n",
       "      <td>999</td>\n",
       "      <td>0</td>\n",
       "      <td>nonexistent</td>\n",
       "      <td>1.1</td>\n",
       "      <td>93.994</td>\n",
       "      <td>-36.4</td>\n",
       "      <td>4.857</td>\n",
       "      <td>5191.0</td>\n",
       "      <td>no</td>\n",
       "    </tr>\n",
       "  </tbody>\n",
       "</table>\n",
       "<p>5 rows × 21 columns</p>\n",
       "</div>"
      ],
      "text/plain": [
       "   age        job  marital    education  default housing loan    contact  \\\n",
       "0   56  housemaid  married     basic.4y       no      no   no  telephone   \n",
       "1   57   services  married  high.school  unknown      no   no  telephone   \n",
       "2   37   services  married  high.school       no     yes   no  telephone   \n",
       "3   40     admin.  married     basic.6y       no      no   no  telephone   \n",
       "4   56   services  married  high.school       no      no  yes  telephone   \n",
       "\n",
       "  month day_of_week  ...  campaign  pdays  previous     poutcome emp.var.rate  \\\n",
       "0   may         mon  ...         1    999         0  nonexistent          1.1   \n",
       "1   may         mon  ...         1    999         0  nonexistent          1.1   \n",
       "2   may         mon  ...         1    999         0  nonexistent          1.1   \n",
       "3   may         mon  ...         1    999         0  nonexistent          1.1   \n",
       "4   may         mon  ...         1    999         0  nonexistent          1.1   \n",
       "\n",
       "   cons.price.idx  cons.conf.idx  euribor3m  nr.employed   y  \n",
       "0          93.994          -36.4      4.857       5191.0  no  \n",
       "1          93.994          -36.4      4.857       5191.0  no  \n",
       "2          93.994          -36.4      4.857       5191.0  no  \n",
       "3          93.994          -36.4      4.857       5191.0  no  \n",
       "4          93.994          -36.4      4.857       5191.0  no  \n",
       "\n",
       "[5 rows x 21 columns]"
      ]
     },
     "execution_count": 123,
     "metadata": {},
     "output_type": "execute_result"
    }
   ],
   "source": [
    "df.head()"
   ]
  },
  {
   "cell_type": "markdown",
   "metadata": {},
   "source": [
    "### Problem 3: Understanding the Features\n",
    "\n",
    "\n",
    "Examine the data description below, and determine if any of the features are missing values or need to be coerced to a different data type.\n",
    "\n",
    "\n",
    "```\n",
    "Input variables:\n",
    "# bank client data:\n",
    "1 - age (numeric)\n",
    "2 - job : type of job (categorical: 'admin.','blue-collar','entrepreneur','housemaid','management','retired','self-employed','services','student','technician','unemployed','unknown')\n",
    "3 - marital : marital status (categorical: 'divorced','married','single','unknown'; note: 'divorced' means divorced or widowed)\n",
    "4 - education (categorical: 'basic.4y','basic.6y','basic.9y','high.school','illiterate','professional.course','university.degree','unknown')\n",
    "5 - default: has credit in default? (categorical: 'no','yes','unknown')\n",
    "6 - housing: has housing loan? (categorical: 'no','yes','unknown')\n",
    "7 - loan: has personal loan? (categorical: 'no','yes','unknown')\n",
    "# related with the last contact of the current campaign:\n",
    "8 - contact: contact communication type (categorical: 'cellular','telephone')\n",
    "9 - month: last contact month of year (categorical: 'jan', 'feb', 'mar', ..., 'nov', 'dec')\n",
    "10 - day_of_week: last contact day of the week (categorical: 'mon','tue','wed','thu','fri')\n",
    "11 - duration: last contact duration, in seconds (numeric). Important note: this attribute highly affects the output target (e.g., if duration=0 then y='no'). Yet, the duration is not known before a call is performed. Also, after the end of the call y is obviously known. Thus, this input should only be included for benchmark purposes and should be discarded if the intention is to have a realistic predictive model.\n",
    "# other attributes:\n",
    "12 - campaign: number of contacts performed during this campaign and for this client (numeric, includes last contact)\n",
    "13 - pdays: number of days that passed by after the client was last contacted from a previous campaign (numeric; 999 means client was not previously contacted)\n",
    "14 - previous: number of contacts performed before this campaign and for this client (numeric)\n",
    "15 - poutcome: outcome of the previous marketing campaign (categorical: 'failure','nonexistent','success')\n",
    "# social and economic context attributes\n",
    "16 - emp.var.rate: employment variation rate - quarterly indicator (numeric)\n",
    "17 - cons.price.idx: consumer price index - monthly indicator (numeric)\n",
    "18 - cons.conf.idx: consumer confidence index - monthly indicator (numeric)\n",
    "19 - euribor3m: euribor 3 month rate - daily indicator (numeric)\n",
    "20 - nr.employed: number of employees - quarterly indicator (numeric)\n",
    "\n",
    "Output variable (desired target):\n",
    "21 - y - has the client subscribed a term deposit? (binary: 'yes','no')\n",
    "```\n",
    "\n"
   ]
  },
  {
   "cell_type": "markdown",
   "metadata": {},
   "source": [
    "### Problem 4: Understanding the Task\n",
    "\n",
    "After examining the description and data, your goal now is to clearly state the *Business Objective* of the task.  State the objective below."
   ]
  },
  {
   "cell_type": "code",
   "execution_count": 124,
   "metadata": {},
   "outputs": [
    {
     "name": "stdout",
     "output_type": "stream",
     "text": [
      "<class 'pandas.core.frame.DataFrame'>\n",
      "RangeIndex: 41188 entries, 0 to 41187\n",
      "Data columns (total 21 columns):\n",
      " #   Column          Non-Null Count  Dtype  \n",
      "---  ------          --------------  -----  \n",
      " 0   age             41188 non-null  int64  \n",
      " 1   job             41188 non-null  object \n",
      " 2   marital         41188 non-null  object \n",
      " 3   education       41188 non-null  object \n",
      " 4   default         41188 non-null  object \n",
      " 5   housing         41188 non-null  object \n",
      " 6   loan            41188 non-null  object \n",
      " 7   contact         41188 non-null  object \n",
      " 8   month           41188 non-null  object \n",
      " 9   day_of_week     41188 non-null  object \n",
      " 10  duration        41188 non-null  int64  \n",
      " 11  campaign        41188 non-null  int64  \n",
      " 12  pdays           41188 non-null  int64  \n",
      " 13  previous        41188 non-null  int64  \n",
      " 14  poutcome        41188 non-null  object \n",
      " 15  emp.var.rate    41188 non-null  float64\n",
      " 16  cons.price.idx  41188 non-null  float64\n",
      " 17  cons.conf.idx   41188 non-null  float64\n",
      " 18  euribor3m       41188 non-null  float64\n",
      " 19  nr.employed     41188 non-null  float64\n",
      " 20  y               41188 non-null  object \n",
      "dtypes: float64(5), int64(5), object(11)\n",
      "memory usage: 6.6+ MB\n"
     ]
    }
   ],
   "source": [
    "df.info()"
   ]
  },
  {
   "cell_type": "markdown",
   "metadata": {},
   "source": [
    "### Problem 5: Engineering Features\n",
    "\n",
    "Now that you understand your business objective, we will build a basic model to get started.  Before we can do this, we must work to encode the data.  Using just the bank information features, prepare the features and target column for modeling with appropriate encoding and transformations."
   ]
  },
  {
   "cell_type": "code",
   "execution_count": 125,
   "metadata": {},
   "outputs": [
    {
     "data": {
      "text/plain": [
       "age               0\n",
       "job               0\n",
       "marital           0\n",
       "education         0\n",
       "default           0\n",
       "housing           0\n",
       "loan              0\n",
       "contact           0\n",
       "month             0\n",
       "day_of_week       0\n",
       "duration          0\n",
       "campaign          0\n",
       "pdays             0\n",
       "previous          0\n",
       "poutcome          0\n",
       "emp.var.rate      0\n",
       "cons.price.idx    0\n",
       "cons.conf.idx     0\n",
       "euribor3m         0\n",
       "nr.employed       0\n",
       "y                 0\n",
       "dtype: int64"
      ]
     },
     "execution_count": 125,
     "metadata": {},
     "output_type": "execute_result"
    }
   ],
   "source": [
    "#Checking for NAN values\n",
    "df.isnull().sum()"
   ]
  },
  {
   "cell_type": "markdown",
   "metadata": {},
   "source": [
    "<h3>Converting the Categorical and Binary datatypes</h3>"
   ]
  },
  {
   "cell_type": "code",
   "execution_count": 126,
   "metadata": {
    "scrolled": true
   },
   "outputs": [
    {
     "data": {
      "text/plain": [
       "0         no\n",
       "1         no\n",
       "2         no\n",
       "3         no\n",
       "4         no\n",
       "        ... \n",
       "41183    yes\n",
       "41184     no\n",
       "41185     no\n",
       "41186    yes\n",
       "41187     no\n",
       "Name: y, Length: 41188, dtype: string"
      ]
     },
     "execution_count": 126,
     "metadata": {},
     "output_type": "execute_result"
    }
   ],
   "source": [
    "#Convert the target varible to integer type\n",
    "df['y'].astype('string')"
   ]
  },
  {
   "cell_type": "code",
   "execution_count": 127,
   "metadata": {},
   "outputs": [
    {
     "name": "stdout",
     "output_type": "stream",
     "text": [
      "<class 'pandas.core.frame.DataFrame'>\n",
      "RangeIndex: 41188 entries, 0 to 41187\n",
      "Data columns (total 21 columns):\n",
      " #   Column          Non-Null Count  Dtype  \n",
      "---  ------          --------------  -----  \n",
      " 0   age             41188 non-null  int64  \n",
      " 1   job             41188 non-null  object \n",
      " 2   marital         41188 non-null  object \n",
      " 3   education       41188 non-null  object \n",
      " 4   default         41188 non-null  object \n",
      " 5   housing         41188 non-null  object \n",
      " 6   loan            41188 non-null  object \n",
      " 7   contact         41188 non-null  object \n",
      " 8   month           41188 non-null  object \n",
      " 9   day_of_week     41188 non-null  object \n",
      " 10  duration        41188 non-null  int64  \n",
      " 11  campaign        41188 non-null  int64  \n",
      " 12  pdays           41188 non-null  int64  \n",
      " 13  previous        41188 non-null  int64  \n",
      " 14  poutcome        41188 non-null  object \n",
      " 15  emp.var.rate    41188 non-null  float64\n",
      " 16  cons.price.idx  41188 non-null  float64\n",
      " 17  cons.conf.idx   41188 non-null  float64\n",
      " 18  euribor3m       41188 non-null  float64\n",
      " 19  nr.employed     41188 non-null  float64\n",
      " 20  y               41188 non-null  object \n",
      "dtypes: float64(5), int64(5), object(11)\n",
      "memory usage: 6.6+ MB\n"
     ]
    }
   ],
   "source": [
    "df.info()"
   ]
  },
  {
   "cell_type": "code",
   "execution_count": 128,
   "metadata": {},
   "outputs": [],
   "source": [
    "X = df.drop('y', axis=1)  # Using all features except the target\n",
    "y = df['y']"
   ]
  },
  {
   "cell_type": "code",
   "execution_count": 129,
   "metadata": {},
   "outputs": [],
   "source": [
    "#Mapping the target feature 'y'\n",
    "target_map = {'yes': 1, 'no': 0}"
   ]
  },
  {
   "cell_type": "code",
   "execution_count": 130,
   "metadata": {
    "scrolled": true
   },
   "outputs": [],
   "source": [
    "y = y.map(target_map)"
   ]
  },
  {
   "cell_type": "code",
   "execution_count": 131,
   "metadata": {},
   "outputs": [
    {
     "data": {
      "text/plain": [
       "0        0\n",
       "1        0\n",
       "2        0\n",
       "3        0\n",
       "4        0\n",
       "        ..\n",
       "41183    1\n",
       "41184    0\n",
       "41185    0\n",
       "41186    1\n",
       "41187    0\n",
       "Name: y, Length: 41188, dtype: int64"
      ]
     },
     "execution_count": 131,
     "metadata": {},
     "output_type": "execute_result"
    }
   ],
   "source": [
    "y"
   ]
  },
  {
   "cell_type": "code",
   "execution_count": 132,
   "metadata": {},
   "outputs": [
    {
     "data": {
      "text/plain": [
       "array(['housemaid', 'services', 'admin.', 'blue-collar', 'technician',\n",
       "       'retired', 'management', 'unemployed', 'self-employed', 'unknown',\n",
       "       'entrepreneur', 'student'], dtype=object)"
      ]
     },
     "execution_count": 132,
     "metadata": {},
     "output_type": "execute_result"
    }
   ],
   "source": [
    "df.job.unique()"
   ]
  },
  {
   "cell_type": "code",
   "execution_count": 133,
   "metadata": {},
   "outputs": [
    {
     "data": {
      "text/plain": [
       "array(['married', 'single', 'divorced', 'unknown'], dtype=object)"
      ]
     },
     "execution_count": 133,
     "metadata": {},
     "output_type": "execute_result"
    }
   ],
   "source": [
    "df.marital.unique()"
   ]
  },
  {
   "cell_type": "code",
   "execution_count": 134,
   "metadata": {},
   "outputs": [
    {
     "data": {
      "text/plain": [
       "array(['basic.4y', 'high.school', 'basic.6y', 'basic.9y',\n",
       "       'professional.course', 'unknown', 'university.degree',\n",
       "       'illiterate'], dtype=object)"
      ]
     },
     "execution_count": 134,
     "metadata": {},
     "output_type": "execute_result"
    }
   ],
   "source": [
    "df.education.unique()"
   ]
  },
  {
   "cell_type": "code",
   "execution_count": 135,
   "metadata": {},
   "outputs": [
    {
     "data": {
      "text/plain": [
       "array(['no', 'unknown', 'yes'], dtype=object)"
      ]
     },
     "execution_count": 135,
     "metadata": {},
     "output_type": "execute_result"
    }
   ],
   "source": [
    "df.default.unique()"
   ]
  },
  {
   "cell_type": "code",
   "execution_count": 136,
   "metadata": {},
   "outputs": [
    {
     "data": {
      "text/plain": [
       "array(['no', 'yes', 'unknown'], dtype=object)"
      ]
     },
     "execution_count": 136,
     "metadata": {},
     "output_type": "execute_result"
    }
   ],
   "source": [
    "df.housing.unique()"
   ]
  },
  {
   "cell_type": "code",
   "execution_count": 137,
   "metadata": {},
   "outputs": [
    {
     "data": {
      "text/plain": [
       "array(['no', 'yes', 'unknown'], dtype=object)"
      ]
     },
     "execution_count": 137,
     "metadata": {},
     "output_type": "execute_result"
    }
   ],
   "source": [
    "df.loan.unique()"
   ]
  },
  {
   "cell_type": "code",
   "execution_count": 138,
   "metadata": {},
   "outputs": [
    {
     "data": {
      "text/plain": [
       "array(['telephone', 'cellular'], dtype=object)"
      ]
     },
     "execution_count": 138,
     "metadata": {},
     "output_type": "execute_result"
    }
   ],
   "source": [
    "df.contact.unique()"
   ]
  },
  {
   "cell_type": "code",
   "execution_count": 139,
   "metadata": {},
   "outputs": [
    {
     "data": {
      "text/plain": [
       "array(['may', 'jun', 'jul', 'aug', 'oct', 'nov', 'dec', 'mar', 'apr',\n",
       "       'sep'], dtype=object)"
      ]
     },
     "execution_count": 139,
     "metadata": {},
     "output_type": "execute_result"
    }
   ],
   "source": [
    "df.month.unique()"
   ]
  },
  {
   "cell_type": "code",
   "execution_count": 140,
   "metadata": {},
   "outputs": [
    {
     "data": {
      "text/plain": [
       "array(['mon', 'tue', 'wed', 'thu', 'fri'], dtype=object)"
      ]
     },
     "execution_count": 140,
     "metadata": {},
     "output_type": "execute_result"
    }
   ],
   "source": [
    "df.day_of_week.unique()"
   ]
  },
  {
   "cell_type": "code",
   "execution_count": 141,
   "metadata": {},
   "outputs": [
    {
     "data": {
      "text/plain": [
       "array(['nonexistent', 'failure', 'success'], dtype=object)"
      ]
     },
     "execution_count": 141,
     "metadata": {},
     "output_type": "execute_result"
    }
   ],
   "source": [
    "df.poutcome.unique()"
   ]
  },
  {
   "cell_type": "code",
   "execution_count": 142,
   "metadata": {},
   "outputs": [],
   "source": [
    "#'job','marital','education','default','housing','loan','contact','month','day_of_week','poutcome'"
   ]
  },
  {
   "cell_type": "code",
   "execution_count": 143,
   "metadata": {},
   "outputs": [],
   "source": [
    "#Transforming the categorical features\n",
    "oe = OrdinalEncoder(categories = [['housemaid', 'services', 'admin.', 'blue-collar', 'technician',\n",
    "       'retired', 'management', 'unemployed', 'self-employed', 'unknown',\n",
    "       'entrepreneur', 'student']])\n",
    "X['job_coder'] = oe.fit_transform(X[['job']])"
   ]
  },
  {
   "cell_type": "code",
   "execution_count": 144,
   "metadata": {},
   "outputs": [],
   "source": [
    "oe = OrdinalEncoder(categories = [['married', 'single', 'divorced', 'unknown']])\n",
    "X['marital_coder'] = oe.fit_transform(X[['marital']])"
   ]
  },
  {
   "cell_type": "code",
   "execution_count": 145,
   "metadata": {},
   "outputs": [],
   "source": [
    "oe = OrdinalEncoder(categories = [['basic.4y', 'high.school', 'basic.6y', 'basic.9y',\n",
    "       'professional.course', 'unknown', 'university.degree',\n",
    "       'illiterate']])\n",
    "X['education_coder'] = oe.fit_transform(X[['education']])"
   ]
  },
  {
   "cell_type": "code",
   "execution_count": 146,
   "metadata": {},
   "outputs": [],
   "source": [
    "oe = OrdinalEncoder(categories = [['no', 'unknown', 'yes']])\n",
    "X['default_coder'] = oe.fit_transform(X[['default']])"
   ]
  },
  {
   "cell_type": "code",
   "execution_count": 147,
   "metadata": {},
   "outputs": [],
   "source": [
    "oe = OrdinalEncoder(categories = [['no', 'unknown', 'yes']])\n",
    "X['housing_coder'] = oe.fit_transform(X[['housing']])"
   ]
  },
  {
   "cell_type": "code",
   "execution_count": 148,
   "metadata": {},
   "outputs": [],
   "source": [
    "oe = OrdinalEncoder(categories = [['no', 'unknown', 'yes']])\n",
    "X['loan_coder'] = oe.fit_transform(X[['loan']])"
   ]
  },
  {
   "cell_type": "code",
   "execution_count": 149,
   "metadata": {},
   "outputs": [],
   "source": [
    "oe = OrdinalEncoder(categories = [['telephone', 'cellular']])\n",
    "X['contact_coder'] = oe.fit_transform(X[['contact']])"
   ]
  },
  {
   "cell_type": "code",
   "execution_count": 150,
   "metadata": {},
   "outputs": [],
   "source": [
    "oe = OrdinalEncoder(categories = [['may', 'jun', 'jul', 'aug', 'oct', 'nov', 'dec', 'mar', 'apr',\n",
    "       'sep']])\n",
    "X['month_coder'] = oe.fit_transform(X[['month']])"
   ]
  },
  {
   "cell_type": "code",
   "execution_count": 151,
   "metadata": {},
   "outputs": [],
   "source": [
    "oe = OrdinalEncoder(categories = [['mon', 'tue', 'wed', 'thu', 'fri']])\n",
    "X['day_of_week_coder'] = oe.fit_transform(X[['day_of_week']])"
   ]
  },
  {
   "cell_type": "code",
   "execution_count": 152,
   "metadata": {},
   "outputs": [],
   "source": [
    "oe = OrdinalEncoder(categories = [['nonexistent', 'failure', 'success']])\n",
    "X['poutcome_coder'] = oe.fit_transform(X[['poutcome']])"
   ]
  },
  {
   "cell_type": "code",
   "execution_count": 153,
   "metadata": {},
   "outputs": [
    {
     "data": {
      "text/html": [
       "<div>\n",
       "<style scoped>\n",
       "    .dataframe tbody tr th:only-of-type {\n",
       "        vertical-align: middle;\n",
       "    }\n",
       "\n",
       "    .dataframe tbody tr th {\n",
       "        vertical-align: top;\n",
       "    }\n",
       "\n",
       "    .dataframe thead th {\n",
       "        text-align: right;\n",
       "    }\n",
       "</style>\n",
       "<table border=\"1\" class=\"dataframe\">\n",
       "  <thead>\n",
       "    <tr style=\"text-align: right;\">\n",
       "      <th></th>\n",
       "      <th>age</th>\n",
       "      <th>job</th>\n",
       "      <th>marital</th>\n",
       "      <th>education</th>\n",
       "      <th>default</th>\n",
       "      <th>housing</th>\n",
       "      <th>loan</th>\n",
       "      <th>contact</th>\n",
       "      <th>month</th>\n",
       "      <th>day_of_week</th>\n",
       "      <th>...</th>\n",
       "      <th>job_coder</th>\n",
       "      <th>marital_coder</th>\n",
       "      <th>education_coder</th>\n",
       "      <th>default_coder</th>\n",
       "      <th>housing_coder</th>\n",
       "      <th>loan_coder</th>\n",
       "      <th>contact_coder</th>\n",
       "      <th>month_coder</th>\n",
       "      <th>day_of_week_coder</th>\n",
       "      <th>poutcome_coder</th>\n",
       "    </tr>\n",
       "  </thead>\n",
       "  <tbody>\n",
       "    <tr>\n",
       "      <th>6341</th>\n",
       "      <td>40</td>\n",
       "      <td>technician</td>\n",
       "      <td>married</td>\n",
       "      <td>professional.course</td>\n",
       "      <td>unknown</td>\n",
       "      <td>yes</td>\n",
       "      <td>no</td>\n",
       "      <td>telephone</td>\n",
       "      <td>may</td>\n",
       "      <td>tue</td>\n",
       "      <td>...</td>\n",
       "      <td>4.0</td>\n",
       "      <td>0.0</td>\n",
       "      <td>4.0</td>\n",
       "      <td>1.0</td>\n",
       "      <td>2.0</td>\n",
       "      <td>0.0</td>\n",
       "      <td>0.0</td>\n",
       "      <td>0.0</td>\n",
       "      <td>1.0</td>\n",
       "      <td>0.0</td>\n",
       "    </tr>\n",
       "    <tr>\n",
       "      <th>23927</th>\n",
       "      <td>53</td>\n",
       "      <td>self-employed</td>\n",
       "      <td>married</td>\n",
       "      <td>university.degree</td>\n",
       "      <td>no</td>\n",
       "      <td>yes</td>\n",
       "      <td>no</td>\n",
       "      <td>cellular</td>\n",
       "      <td>aug</td>\n",
       "      <td>fri</td>\n",
       "      <td>...</td>\n",
       "      <td>8.0</td>\n",
       "      <td>0.0</td>\n",
       "      <td>6.0</td>\n",
       "      <td>0.0</td>\n",
       "      <td>2.0</td>\n",
       "      <td>0.0</td>\n",
       "      <td>1.0</td>\n",
       "      <td>3.0</td>\n",
       "      <td>4.0</td>\n",
       "      <td>0.0</td>\n",
       "    </tr>\n",
       "    <tr>\n",
       "      <th>13536</th>\n",
       "      <td>46</td>\n",
       "      <td>admin.</td>\n",
       "      <td>divorced</td>\n",
       "      <td>university.degree</td>\n",
       "      <td>unknown</td>\n",
       "      <td>yes</td>\n",
       "      <td>no</td>\n",
       "      <td>cellular</td>\n",
       "      <td>jul</td>\n",
       "      <td>thu</td>\n",
       "      <td>...</td>\n",
       "      <td>2.0</td>\n",
       "      <td>2.0</td>\n",
       "      <td>6.0</td>\n",
       "      <td>1.0</td>\n",
       "      <td>2.0</td>\n",
       "      <td>0.0</td>\n",
       "      <td>1.0</td>\n",
       "      <td>2.0</td>\n",
       "      <td>3.0</td>\n",
       "      <td>0.0</td>\n",
       "    </tr>\n",
       "    <tr>\n",
       "      <th>26985</th>\n",
       "      <td>38</td>\n",
       "      <td>admin.</td>\n",
       "      <td>single</td>\n",
       "      <td>high.school</td>\n",
       "      <td>no</td>\n",
       "      <td>yes</td>\n",
       "      <td>yes</td>\n",
       "      <td>cellular</td>\n",
       "      <td>nov</td>\n",
       "      <td>thu</td>\n",
       "      <td>...</td>\n",
       "      <td>2.0</td>\n",
       "      <td>1.0</td>\n",
       "      <td>1.0</td>\n",
       "      <td>0.0</td>\n",
       "      <td>2.0</td>\n",
       "      <td>2.0</td>\n",
       "      <td>1.0</td>\n",
       "      <td>5.0</td>\n",
       "      <td>3.0</td>\n",
       "      <td>0.0</td>\n",
       "    </tr>\n",
       "    <tr>\n",
       "      <th>20880</th>\n",
       "      <td>54</td>\n",
       "      <td>technician</td>\n",
       "      <td>married</td>\n",
       "      <td>university.degree</td>\n",
       "      <td>no</td>\n",
       "      <td>yes</td>\n",
       "      <td>no</td>\n",
       "      <td>cellular</td>\n",
       "      <td>aug</td>\n",
       "      <td>thu</td>\n",
       "      <td>...</td>\n",
       "      <td>4.0</td>\n",
       "      <td>0.0</td>\n",
       "      <td>6.0</td>\n",
       "      <td>0.0</td>\n",
       "      <td>2.0</td>\n",
       "      <td>0.0</td>\n",
       "      <td>1.0</td>\n",
       "      <td>3.0</td>\n",
       "      <td>3.0</td>\n",
       "      <td>0.0</td>\n",
       "    </tr>\n",
       "    <tr>\n",
       "      <th>34858</th>\n",
       "      <td>24</td>\n",
       "      <td>blue-collar</td>\n",
       "      <td>married</td>\n",
       "      <td>basic.9y</td>\n",
       "      <td>no</td>\n",
       "      <td>unknown</td>\n",
       "      <td>unknown</td>\n",
       "      <td>telephone</td>\n",
       "      <td>may</td>\n",
       "      <td>fri</td>\n",
       "      <td>...</td>\n",
       "      <td>3.0</td>\n",
       "      <td>0.0</td>\n",
       "      <td>3.0</td>\n",
       "      <td>0.0</td>\n",
       "      <td>1.0</td>\n",
       "      <td>1.0</td>\n",
       "      <td>0.0</td>\n",
       "      <td>0.0</td>\n",
       "      <td>4.0</td>\n",
       "      <td>0.0</td>\n",
       "    </tr>\n",
       "    <tr>\n",
       "      <th>40696</th>\n",
       "      <td>27</td>\n",
       "      <td>management</td>\n",
       "      <td>single</td>\n",
       "      <td>university.degree</td>\n",
       "      <td>no</td>\n",
       "      <td>no</td>\n",
       "      <td>no</td>\n",
       "      <td>cellular</td>\n",
       "      <td>sep</td>\n",
       "      <td>mon</td>\n",
       "      <td>...</td>\n",
       "      <td>6.0</td>\n",
       "      <td>1.0</td>\n",
       "      <td>6.0</td>\n",
       "      <td>0.0</td>\n",
       "      <td>0.0</td>\n",
       "      <td>0.0</td>\n",
       "      <td>1.0</td>\n",
       "      <td>9.0</td>\n",
       "      <td>0.0</td>\n",
       "      <td>0.0</td>\n",
       "    </tr>\n",
       "    <tr>\n",
       "      <th>13890</th>\n",
       "      <td>33</td>\n",
       "      <td>admin.</td>\n",
       "      <td>married</td>\n",
       "      <td>high.school</td>\n",
       "      <td>no</td>\n",
       "      <td>yes</td>\n",
       "      <td>no</td>\n",
       "      <td>cellular</td>\n",
       "      <td>jul</td>\n",
       "      <td>fri</td>\n",
       "      <td>...</td>\n",
       "      <td>2.0</td>\n",
       "      <td>0.0</td>\n",
       "      <td>1.0</td>\n",
       "      <td>0.0</td>\n",
       "      <td>2.0</td>\n",
       "      <td>0.0</td>\n",
       "      <td>1.0</td>\n",
       "      <td>2.0</td>\n",
       "      <td>4.0</td>\n",
       "      <td>0.0</td>\n",
       "    </tr>\n",
       "    <tr>\n",
       "      <th>12817</th>\n",
       "      <td>33</td>\n",
       "      <td>services</td>\n",
       "      <td>married</td>\n",
       "      <td>high.school</td>\n",
       "      <td>no</td>\n",
       "      <td>yes</td>\n",
       "      <td>yes</td>\n",
       "      <td>cellular</td>\n",
       "      <td>jul</td>\n",
       "      <td>tue</td>\n",
       "      <td>...</td>\n",
       "      <td>1.0</td>\n",
       "      <td>0.0</td>\n",
       "      <td>1.0</td>\n",
       "      <td>0.0</td>\n",
       "      <td>2.0</td>\n",
       "      <td>2.0</td>\n",
       "      <td>1.0</td>\n",
       "      <td>2.0</td>\n",
       "      <td>1.0</td>\n",
       "      <td>0.0</td>\n",
       "    </tr>\n",
       "    <tr>\n",
       "      <th>30558</th>\n",
       "      <td>52</td>\n",
       "      <td>admin.</td>\n",
       "      <td>married</td>\n",
       "      <td>university.degree</td>\n",
       "      <td>no</td>\n",
       "      <td>no</td>\n",
       "      <td>yes</td>\n",
       "      <td>cellular</td>\n",
       "      <td>may</td>\n",
       "      <td>mon</td>\n",
       "      <td>...</td>\n",
       "      <td>2.0</td>\n",
       "      <td>0.0</td>\n",
       "      <td>6.0</td>\n",
       "      <td>0.0</td>\n",
       "      <td>0.0</td>\n",
       "      <td>2.0</td>\n",
       "      <td>1.0</td>\n",
       "      <td>0.0</td>\n",
       "      <td>0.0</td>\n",
       "      <td>0.0</td>\n",
       "    </tr>\n",
       "  </tbody>\n",
       "</table>\n",
       "<p>10 rows × 30 columns</p>\n",
       "</div>"
      ],
      "text/plain": [
       "       age            job   marital            education  default  housing  \\\n",
       "6341    40     technician   married  professional.course  unknown      yes   \n",
       "23927   53  self-employed   married    university.degree       no      yes   \n",
       "13536   46         admin.  divorced    university.degree  unknown      yes   \n",
       "26985   38         admin.    single          high.school       no      yes   \n",
       "20880   54     technician   married    university.degree       no      yes   \n",
       "34858   24    blue-collar   married             basic.9y       no  unknown   \n",
       "40696   27     management    single    university.degree       no       no   \n",
       "13890   33         admin.   married          high.school       no      yes   \n",
       "12817   33       services   married          high.school       no      yes   \n",
       "30558   52         admin.   married    university.degree       no       no   \n",
       "\n",
       "          loan    contact month day_of_week  ...  job_coder  marital_coder  \\\n",
       "6341        no  telephone   may         tue  ...        4.0            0.0   \n",
       "23927       no   cellular   aug         fri  ...        8.0            0.0   \n",
       "13536       no   cellular   jul         thu  ...        2.0            2.0   \n",
       "26985      yes   cellular   nov         thu  ...        2.0            1.0   \n",
       "20880       no   cellular   aug         thu  ...        4.0            0.0   \n",
       "34858  unknown  telephone   may         fri  ...        3.0            0.0   \n",
       "40696       no   cellular   sep         mon  ...        6.0            1.0   \n",
       "13890       no   cellular   jul         fri  ...        2.0            0.0   \n",
       "12817      yes   cellular   jul         tue  ...        1.0            0.0   \n",
       "30558      yes   cellular   may         mon  ...        2.0            0.0   \n",
       "\n",
       "       education_coder  default_coder housing_coder  loan_coder  \\\n",
       "6341               4.0            1.0           2.0         0.0   \n",
       "23927              6.0            0.0           2.0         0.0   \n",
       "13536              6.0            1.0           2.0         0.0   \n",
       "26985              1.0            0.0           2.0         2.0   \n",
       "20880              6.0            0.0           2.0         0.0   \n",
       "34858              3.0            0.0           1.0         1.0   \n",
       "40696              6.0            0.0           0.0         0.0   \n",
       "13890              1.0            0.0           2.0         0.0   \n",
       "12817              1.0            0.0           2.0         2.0   \n",
       "30558              6.0            0.0           0.0         2.0   \n",
       "\n",
       "       contact_coder  month_coder  day_of_week_coder  poutcome_coder  \n",
       "6341             0.0          0.0                1.0             0.0  \n",
       "23927            1.0          3.0                4.0             0.0  \n",
       "13536            1.0          2.0                3.0             0.0  \n",
       "26985            1.0          5.0                3.0             0.0  \n",
       "20880            1.0          3.0                3.0             0.0  \n",
       "34858            0.0          0.0                4.0             0.0  \n",
       "40696            1.0          9.0                0.0             0.0  \n",
       "13890            1.0          2.0                4.0             0.0  \n",
       "12817            1.0          2.0                1.0             0.0  \n",
       "30558            1.0          0.0                0.0             0.0  \n",
       "\n",
       "[10 rows x 30 columns]"
      ]
     },
     "execution_count": 153,
     "metadata": {},
     "output_type": "execute_result"
    }
   ],
   "source": [
    "X.sample(10)"
   ]
  },
  {
   "cell_type": "code",
   "execution_count": 154,
   "metadata": {},
   "outputs": [
    {
     "data": {
      "text/html": [
       "<div>\n",
       "<style scoped>\n",
       "    .dataframe tbody tr th:only-of-type {\n",
       "        vertical-align: middle;\n",
       "    }\n",
       "\n",
       "    .dataframe tbody tr th {\n",
       "        vertical-align: top;\n",
       "    }\n",
       "\n",
       "    .dataframe thead th {\n",
       "        text-align: right;\n",
       "    }\n",
       "</style>\n",
       "<table border=\"1\" class=\"dataframe\">\n",
       "  <thead>\n",
       "    <tr style=\"text-align: right;\">\n",
       "      <th></th>\n",
       "      <th>age</th>\n",
       "      <th>duration</th>\n",
       "      <th>campaign</th>\n",
       "      <th>pdays</th>\n",
       "      <th>previous</th>\n",
       "      <th>emp.var.rate</th>\n",
       "      <th>cons.price.idx</th>\n",
       "      <th>cons.conf.idx</th>\n",
       "      <th>euribor3m</th>\n",
       "      <th>nr.employed</th>\n",
       "      <th>job_coder</th>\n",
       "      <th>marital_coder</th>\n",
       "      <th>education_coder</th>\n",
       "      <th>default_coder</th>\n",
       "      <th>housing_coder</th>\n",
       "      <th>loan_coder</th>\n",
       "      <th>contact_coder</th>\n",
       "      <th>month_coder</th>\n",
       "      <th>day_of_week_coder</th>\n",
       "      <th>poutcome_coder</th>\n",
       "    </tr>\n",
       "  </thead>\n",
       "  <tbody>\n",
       "    <tr>\n",
       "      <th>9981</th>\n",
       "      <td>53</td>\n",
       "      <td>111</td>\n",
       "      <td>10</td>\n",
       "      <td>999</td>\n",
       "      <td>0</td>\n",
       "      <td>1.4</td>\n",
       "      <td>94.465</td>\n",
       "      <td>-41.8</td>\n",
       "      <td>4.959</td>\n",
       "      <td>5228.1</td>\n",
       "      <td>3.0</td>\n",
       "      <td>0.0</td>\n",
       "      <td>3.0</td>\n",
       "      <td>1.0</td>\n",
       "      <td>0.0</td>\n",
       "      <td>0.0</td>\n",
       "      <td>0.0</td>\n",
       "      <td>1.0</td>\n",
       "      <td>2.0</td>\n",
       "      <td>0.0</td>\n",
       "    </tr>\n",
       "    <tr>\n",
       "      <th>21911</th>\n",
       "      <td>45</td>\n",
       "      <td>88</td>\n",
       "      <td>2</td>\n",
       "      <td>999</td>\n",
       "      <td>0</td>\n",
       "      <td>1.4</td>\n",
       "      <td>93.444</td>\n",
       "      <td>-36.1</td>\n",
       "      <td>4.964</td>\n",
       "      <td>5228.1</td>\n",
       "      <td>6.0</td>\n",
       "      <td>0.0</td>\n",
       "      <td>6.0</td>\n",
       "      <td>0.0</td>\n",
       "      <td>2.0</td>\n",
       "      <td>0.0</td>\n",
       "      <td>1.0</td>\n",
       "      <td>3.0</td>\n",
       "      <td>2.0</td>\n",
       "      <td>0.0</td>\n",
       "    </tr>\n",
       "    <tr>\n",
       "      <th>25067</th>\n",
       "      <td>35</td>\n",
       "      <td>84</td>\n",
       "      <td>1</td>\n",
       "      <td>999</td>\n",
       "      <td>0</td>\n",
       "      <td>-0.1</td>\n",
       "      <td>93.200</td>\n",
       "      <td>-42.0</td>\n",
       "      <td>4.153</td>\n",
       "      <td>5195.8</td>\n",
       "      <td>2.0</td>\n",
       "      <td>0.0</td>\n",
       "      <td>1.0</td>\n",
       "      <td>0.0</td>\n",
       "      <td>2.0</td>\n",
       "      <td>0.0</td>\n",
       "      <td>1.0</td>\n",
       "      <td>5.0</td>\n",
       "      <td>1.0</td>\n",
       "      <td>0.0</td>\n",
       "    </tr>\n",
       "    <tr>\n",
       "      <th>2671</th>\n",
       "      <td>28</td>\n",
       "      <td>313</td>\n",
       "      <td>4</td>\n",
       "      <td>999</td>\n",
       "      <td>0</td>\n",
       "      <td>1.1</td>\n",
       "      <td>93.994</td>\n",
       "      <td>-36.4</td>\n",
       "      <td>4.859</td>\n",
       "      <td>5191.0</td>\n",
       "      <td>11.0</td>\n",
       "      <td>1.0</td>\n",
       "      <td>1.0</td>\n",
       "      <td>1.0</td>\n",
       "      <td>2.0</td>\n",
       "      <td>0.0</td>\n",
       "      <td>0.0</td>\n",
       "      <td>0.0</td>\n",
       "      <td>2.0</td>\n",
       "      <td>0.0</td>\n",
       "    </tr>\n",
       "    <tr>\n",
       "      <th>16466</th>\n",
       "      <td>24</td>\n",
       "      <td>250</td>\n",
       "      <td>1</td>\n",
       "      <td>999</td>\n",
       "      <td>0</td>\n",
       "      <td>1.4</td>\n",
       "      <td>93.918</td>\n",
       "      <td>-42.7</td>\n",
       "      <td>4.963</td>\n",
       "      <td>5228.1</td>\n",
       "      <td>1.0</td>\n",
       "      <td>1.0</td>\n",
       "      <td>3.0</td>\n",
       "      <td>0.0</td>\n",
       "      <td>0.0</td>\n",
       "      <td>0.0</td>\n",
       "      <td>1.0</td>\n",
       "      <td>2.0</td>\n",
       "      <td>2.0</td>\n",
       "      <td>0.0</td>\n",
       "    </tr>\n",
       "    <tr>\n",
       "      <th>22329</th>\n",
       "      <td>55</td>\n",
       "      <td>94</td>\n",
       "      <td>13</td>\n",
       "      <td>999</td>\n",
       "      <td>0</td>\n",
       "      <td>1.4</td>\n",
       "      <td>93.444</td>\n",
       "      <td>-36.1</td>\n",
       "      <td>4.963</td>\n",
       "      <td>5228.1</td>\n",
       "      <td>3.0</td>\n",
       "      <td>0.0</td>\n",
       "      <td>0.0</td>\n",
       "      <td>0.0</td>\n",
       "      <td>0.0</td>\n",
       "      <td>0.0</td>\n",
       "      <td>1.0</td>\n",
       "      <td>3.0</td>\n",
       "      <td>3.0</td>\n",
       "      <td>0.0</td>\n",
       "    </tr>\n",
       "    <tr>\n",
       "      <th>24762</th>\n",
       "      <td>40</td>\n",
       "      <td>55</td>\n",
       "      <td>1</td>\n",
       "      <td>999</td>\n",
       "      <td>1</td>\n",
       "      <td>-0.1</td>\n",
       "      <td>93.200</td>\n",
       "      <td>-42.0</td>\n",
       "      <td>4.153</td>\n",
       "      <td>5195.8</td>\n",
       "      <td>8.0</td>\n",
       "      <td>0.0</td>\n",
       "      <td>3.0</td>\n",
       "      <td>0.0</td>\n",
       "      <td>0.0</td>\n",
       "      <td>0.0</td>\n",
       "      <td>1.0</td>\n",
       "      <td>5.0</td>\n",
       "      <td>1.0</td>\n",
       "      <td>1.0</td>\n",
       "    </tr>\n",
       "    <tr>\n",
       "      <th>11684</th>\n",
       "      <td>42</td>\n",
       "      <td>408</td>\n",
       "      <td>5</td>\n",
       "      <td>999</td>\n",
       "      <td>0</td>\n",
       "      <td>1.4</td>\n",
       "      <td>94.465</td>\n",
       "      <td>-41.8</td>\n",
       "      <td>4.959</td>\n",
       "      <td>5228.1</td>\n",
       "      <td>0.0</td>\n",
       "      <td>0.0</td>\n",
       "      <td>0.0</td>\n",
       "      <td>1.0</td>\n",
       "      <td>2.0</td>\n",
       "      <td>0.0</td>\n",
       "      <td>0.0</td>\n",
       "      <td>1.0</td>\n",
       "      <td>4.0</td>\n",
       "      <td>0.0</td>\n",
       "    </tr>\n",
       "    <tr>\n",
       "      <th>36512</th>\n",
       "      <td>29</td>\n",
       "      <td>174</td>\n",
       "      <td>1</td>\n",
       "      <td>999</td>\n",
       "      <td>0</td>\n",
       "      <td>-2.9</td>\n",
       "      <td>92.963</td>\n",
       "      <td>-40.8</td>\n",
       "      <td>1.260</td>\n",
       "      <td>5076.2</td>\n",
       "      <td>2.0</td>\n",
       "      <td>1.0</td>\n",
       "      <td>6.0</td>\n",
       "      <td>0.0</td>\n",
       "      <td>0.0</td>\n",
       "      <td>0.0</td>\n",
       "      <td>1.0</td>\n",
       "      <td>1.0</td>\n",
       "      <td>2.0</td>\n",
       "      <td>0.0</td>\n",
       "    </tr>\n",
       "    <tr>\n",
       "      <th>1154</th>\n",
       "      <td>30</td>\n",
       "      <td>308</td>\n",
       "      <td>3</td>\n",
       "      <td>999</td>\n",
       "      <td>0</td>\n",
       "      <td>1.1</td>\n",
       "      <td>93.994</td>\n",
       "      <td>-36.4</td>\n",
       "      <td>4.855</td>\n",
       "      <td>5191.0</td>\n",
       "      <td>2.0</td>\n",
       "      <td>1.0</td>\n",
       "      <td>1.0</td>\n",
       "      <td>0.0</td>\n",
       "      <td>0.0</td>\n",
       "      <td>0.0</td>\n",
       "      <td>0.0</td>\n",
       "      <td>0.0</td>\n",
       "      <td>3.0</td>\n",
       "      <td>0.0</td>\n",
       "    </tr>\n",
       "  </tbody>\n",
       "</table>\n",
       "</div>"
      ],
      "text/plain": [
       "       age  duration  campaign  pdays  previous  emp.var.rate  cons.price.idx  \\\n",
       "9981    53       111        10    999         0           1.4          94.465   \n",
       "21911   45        88         2    999         0           1.4          93.444   \n",
       "25067   35        84         1    999         0          -0.1          93.200   \n",
       "2671    28       313         4    999         0           1.1          93.994   \n",
       "16466   24       250         1    999         0           1.4          93.918   \n",
       "22329   55        94        13    999         0           1.4          93.444   \n",
       "24762   40        55         1    999         1          -0.1          93.200   \n",
       "11684   42       408         5    999         0           1.4          94.465   \n",
       "36512   29       174         1    999         0          -2.9          92.963   \n",
       "1154    30       308         3    999         0           1.1          93.994   \n",
       "\n",
       "       cons.conf.idx  euribor3m  nr.employed  job_coder  marital_coder  \\\n",
       "9981           -41.8      4.959       5228.1        3.0            0.0   \n",
       "21911          -36.1      4.964       5228.1        6.0            0.0   \n",
       "25067          -42.0      4.153       5195.8        2.0            0.0   \n",
       "2671           -36.4      4.859       5191.0       11.0            1.0   \n",
       "16466          -42.7      4.963       5228.1        1.0            1.0   \n",
       "22329          -36.1      4.963       5228.1        3.0            0.0   \n",
       "24762          -42.0      4.153       5195.8        8.0            0.0   \n",
       "11684          -41.8      4.959       5228.1        0.0            0.0   \n",
       "36512          -40.8      1.260       5076.2        2.0            1.0   \n",
       "1154           -36.4      4.855       5191.0        2.0            1.0   \n",
       "\n",
       "       education_coder  default_coder  housing_coder  loan_coder  \\\n",
       "9981               3.0            1.0            0.0         0.0   \n",
       "21911              6.0            0.0            2.0         0.0   \n",
       "25067              1.0            0.0            2.0         0.0   \n",
       "2671               1.0            1.0            2.0         0.0   \n",
       "16466              3.0            0.0            0.0         0.0   \n",
       "22329              0.0            0.0            0.0         0.0   \n",
       "24762              3.0            0.0            0.0         0.0   \n",
       "11684              0.0            1.0            2.0         0.0   \n",
       "36512              6.0            0.0            0.0         0.0   \n",
       "1154               1.0            0.0            0.0         0.0   \n",
       "\n",
       "       contact_coder  month_coder  day_of_week_coder  poutcome_coder  \n",
       "9981             0.0          1.0                2.0             0.0  \n",
       "21911            1.0          3.0                2.0             0.0  \n",
       "25067            1.0          5.0                1.0             0.0  \n",
       "2671             0.0          0.0                2.0             0.0  \n",
       "16466            1.0          2.0                2.0             0.0  \n",
       "22329            1.0          3.0                3.0             0.0  \n",
       "24762            1.0          5.0                1.0             1.0  \n",
       "11684            0.0          1.0                4.0             0.0  \n",
       "36512            1.0          1.0                2.0             0.0  \n",
       "1154             0.0          0.0                3.0             0.0  "
      ]
     },
     "execution_count": 154,
     "metadata": {},
     "output_type": "execute_result"
    }
   ],
   "source": [
    "X = X.drop(['job','marital','education','default','housing','loan','contact','month','day_of_week','poutcome'], axis=1)\n",
    "X.sample(10)"
   ]
  },
  {
   "cell_type": "markdown",
   "metadata": {},
   "source": [
    "<h3>EDA</h3> "
   ]
  },
  {
   "cell_type": "code",
   "execution_count": 155,
   "metadata": {},
   "outputs": [
    {
     "data": {
      "image/png": "[encoded data removed]",
      "text/plain": [
       "<Figure size 1400x800 with 2 Axes>"
      ]
     },
     "metadata": {},
     "output_type": "display_data"
    }
   ],
   "source": [
    "# Correlation matrix and heatmap\n",
    "correlation = X.corr()\n",
    "plt.figure(figsize=(14, 8))\n",
    "sns.heatmap(correlation, annot=True, cmap=\"coolwarm\", fmt=\".2f\", square=True)\n",
    "plt.savefig('images/heap_map.png')"
   ]
  },
  {
   "cell_type": "code",
   "execution_count": 156,
   "metadata": {},
   "outputs": [
    {
     "name": "stdout",
     "output_type": "stream",
     "text": [
      "default_coder\n"
     ]
    }
   ],
   "source": [
    "#examine Correlations :\n",
    "highest_corr = X.corr()[['age']].nlargest(columns = 'age', n = 2).index[1]\n",
    "print(highest_corr)"
   ]
  },
  {
   "cell_type": "markdown",
   "metadata": {},
   "source": [
    "<h4> Based on the correlation matrix we see that duration, campaign,emp.var.rate, cons.price.idx, housing_coder,loan_coder,contact_coder features are very less correlated when compared to other features so i will drop them from the further analysis.</h4> "
   ]
  },
  {
   "cell_type": "code",
   "execution_count": 157,
   "metadata": {
    "scrolled": false
   },
   "outputs": [
    {
     "data": {
      "text/html": [
       "<div>\n",
       "<style scoped>\n",
       "    .dataframe tbody tr th:only-of-type {\n",
       "        vertical-align: middle;\n",
       "    }\n",
       "\n",
       "    .dataframe tbody tr th {\n",
       "        vertical-align: top;\n",
       "    }\n",
       "\n",
       "    .dataframe thead th {\n",
       "        text-align: right;\n",
       "    }\n",
       "</style>\n",
       "<table border=\"1\" class=\"dataframe\">\n",
       "  <thead>\n",
       "    <tr style=\"text-align: right;\">\n",
       "      <th></th>\n",
       "      <th>age</th>\n",
       "      <th>pdays</th>\n",
       "      <th>previous</th>\n",
       "      <th>cons.conf.idx</th>\n",
       "      <th>euribor3m</th>\n",
       "      <th>nr.employed</th>\n",
       "      <th>job_coder</th>\n",
       "      <th>marital_coder</th>\n",
       "      <th>education_coder</th>\n",
       "      <th>default_coder</th>\n",
       "      <th>month_coder</th>\n",
       "      <th>day_of_week_coder</th>\n",
       "      <th>poutcome_coder</th>\n",
       "    </tr>\n",
       "  </thead>\n",
       "  <tbody>\n",
       "    <tr>\n",
       "      <th>29633</th>\n",
       "      <td>28</td>\n",
       "      <td>999</td>\n",
       "      <td>0</td>\n",
       "      <td>-47.1</td>\n",
       "      <td>1.405</td>\n",
       "      <td>5099.1</td>\n",
       "      <td>8.0</td>\n",
       "      <td>1.0</td>\n",
       "      <td>6.0</td>\n",
       "      <td>0.0</td>\n",
       "      <td>8.0</td>\n",
       "      <td>0.0</td>\n",
       "      <td>0.0</td>\n",
       "    </tr>\n",
       "    <tr>\n",
       "      <th>25103</th>\n",
       "      <td>55</td>\n",
       "      <td>999</td>\n",
       "      <td>0</td>\n",
       "      <td>-42.0</td>\n",
       "      <td>4.153</td>\n",
       "      <td>5195.8</td>\n",
       "      <td>3.0</td>\n",
       "      <td>0.0</td>\n",
       "      <td>3.0</td>\n",
       "      <td>1.0</td>\n",
       "      <td>5.0</td>\n",
       "      <td>1.0</td>\n",
       "      <td>0.0</td>\n",
       "    </tr>\n",
       "    <tr>\n",
       "      <th>17437</th>\n",
       "      <td>42</td>\n",
       "      <td>999</td>\n",
       "      <td>0</td>\n",
       "      <td>-42.7</td>\n",
       "      <td>4.962</td>\n",
       "      <td>5228.1</td>\n",
       "      <td>2.0</td>\n",
       "      <td>0.0</td>\n",
       "      <td>6.0</td>\n",
       "      <td>0.0</td>\n",
       "      <td>2.0</td>\n",
       "      <td>0.0</td>\n",
       "      <td>0.0</td>\n",
       "    </tr>\n",
       "    <tr>\n",
       "      <th>32294</th>\n",
       "      <td>28</td>\n",
       "      <td>999</td>\n",
       "      <td>1</td>\n",
       "      <td>-46.2</td>\n",
       "      <td>1.313</td>\n",
       "      <td>5099.1</td>\n",
       "      <td>3.0</td>\n",
       "      <td>1.0</td>\n",
       "      <td>3.0</td>\n",
       "      <td>0.0</td>\n",
       "      <td>0.0</td>\n",
       "      <td>4.0</td>\n",
       "      <td>1.0</td>\n",
       "    </tr>\n",
       "    <tr>\n",
       "      <th>36727</th>\n",
       "      <td>26</td>\n",
       "      <td>999</td>\n",
       "      <td>0</td>\n",
       "      <td>-40.8</td>\n",
       "      <td>1.268</td>\n",
       "      <td>5076.2</td>\n",
       "      <td>2.0</td>\n",
       "      <td>1.0</td>\n",
       "      <td>1.0</td>\n",
       "      <td>0.0</td>\n",
       "      <td>1.0</td>\n",
       "      <td>4.0</td>\n",
       "      <td>0.0</td>\n",
       "    </tr>\n",
       "    <tr>\n",
       "      <th>16472</th>\n",
       "      <td>46</td>\n",
       "      <td>999</td>\n",
       "      <td>0</td>\n",
       "      <td>-42.7</td>\n",
       "      <td>4.963</td>\n",
       "      <td>5228.1</td>\n",
       "      <td>1.0</td>\n",
       "      <td>0.0</td>\n",
       "      <td>1.0</td>\n",
       "      <td>0.0</td>\n",
       "      <td>2.0</td>\n",
       "      <td>2.0</td>\n",
       "      <td>0.0</td>\n",
       "    </tr>\n",
       "    <tr>\n",
       "      <th>40878</th>\n",
       "      <td>32</td>\n",
       "      <td>14</td>\n",
       "      <td>4</td>\n",
       "      <td>-49.5</td>\n",
       "      <td>0.959</td>\n",
       "      <td>4963.6</td>\n",
       "      <td>4.0</td>\n",
       "      <td>0.0</td>\n",
       "      <td>4.0</td>\n",
       "      <td>0.0</td>\n",
       "      <td>4.0</td>\n",
       "      <td>2.0</td>\n",
       "      <td>1.0</td>\n",
       "    </tr>\n",
       "    <tr>\n",
       "      <th>29220</th>\n",
       "      <td>51</td>\n",
       "      <td>999</td>\n",
       "      <td>0</td>\n",
       "      <td>-47.1</td>\n",
       "      <td>1.405</td>\n",
       "      <td>5099.1</td>\n",
       "      <td>0.0</td>\n",
       "      <td>2.0</td>\n",
       "      <td>1.0</td>\n",
       "      <td>1.0</td>\n",
       "      <td>8.0</td>\n",
       "      <td>4.0</td>\n",
       "      <td>0.0</td>\n",
       "    </tr>\n",
       "    <tr>\n",
       "      <th>17476</th>\n",
       "      <td>51</td>\n",
       "      <td>999</td>\n",
       "      <td>0</td>\n",
       "      <td>-42.7</td>\n",
       "      <td>4.962</td>\n",
       "      <td>5228.1</td>\n",
       "      <td>4.0</td>\n",
       "      <td>0.0</td>\n",
       "      <td>3.0</td>\n",
       "      <td>1.0</td>\n",
       "      <td>2.0</td>\n",
       "      <td>0.0</td>\n",
       "      <td>0.0</td>\n",
       "    </tr>\n",
       "    <tr>\n",
       "      <th>2492</th>\n",
       "      <td>33</td>\n",
       "      <td>999</td>\n",
       "      <td>0</td>\n",
       "      <td>-36.4</td>\n",
       "      <td>4.856</td>\n",
       "      <td>5191.0</td>\n",
       "      <td>6.0</td>\n",
       "      <td>1.0</td>\n",
       "      <td>6.0</td>\n",
       "      <td>0.0</td>\n",
       "      <td>0.0</td>\n",
       "      <td>1.0</td>\n",
       "      <td>0.0</td>\n",
       "    </tr>\n",
       "  </tbody>\n",
       "</table>\n",
       "</div>"
      ],
      "text/plain": [
       "       age  pdays  previous  cons.conf.idx  euribor3m  nr.employed  job_coder  \\\n",
       "29633   28    999         0          -47.1      1.405       5099.1        8.0   \n",
       "25103   55    999         0          -42.0      4.153       5195.8        3.0   \n",
       "17437   42    999         0          -42.7      4.962       5228.1        2.0   \n",
       "32294   28    999         1          -46.2      1.313       5099.1        3.0   \n",
       "36727   26    999         0          -40.8      1.268       5076.2        2.0   \n",
       "16472   46    999         0          -42.7      4.963       5228.1        1.0   \n",
       "40878   32     14         4          -49.5      0.959       4963.6        4.0   \n",
       "29220   51    999         0          -47.1      1.405       5099.1        0.0   \n",
       "17476   51    999         0          -42.7      4.962       5228.1        4.0   \n",
       "2492    33    999         0          -36.4      4.856       5191.0        6.0   \n",
       "\n",
       "       marital_coder  education_coder  default_coder  month_coder  \\\n",
       "29633            1.0              6.0            0.0          8.0   \n",
       "25103            0.0              3.0            1.0          5.0   \n",
       "17437            0.0              6.0            0.0          2.0   \n",
       "32294            1.0              3.0            0.0          0.0   \n",
       "36727            1.0              1.0            0.0          1.0   \n",
       "16472            0.0              1.0            0.0          2.0   \n",
       "40878            0.0              4.0            0.0          4.0   \n",
       "29220            2.0              1.0            1.0          8.0   \n",
       "17476            0.0              3.0            1.0          2.0   \n",
       "2492             1.0              6.0            0.0          0.0   \n",
       "\n",
       "       day_of_week_coder  poutcome_coder  \n",
       "29633                0.0             0.0  \n",
       "25103                1.0             0.0  \n",
       "17437                0.0             0.0  \n",
       "32294                4.0             1.0  \n",
       "36727                4.0             0.0  \n",
       "16472                2.0             0.0  \n",
       "40878                2.0             1.0  \n",
       "29220                4.0             0.0  \n",
       "17476                0.0             0.0  \n",
       "2492                 1.0             0.0  "
      ]
     },
     "execution_count": 157,
     "metadata": {},
     "output_type": "execute_result"
    }
   ],
   "source": [
    "X= X.drop(['duration','campaign','emp.var.rate','cons.price.idx','housing_coder','loan_coder','contact_coder'], axis=1)\n",
    "X.sample(10)"
   ]
  },
  {
   "cell_type": "markdown",
   "metadata": {},
   "source": [
    "# \" I have dropped the duration feature for initial round of analysis and will be considered in the Problem 11\""
   ]
  },
  {
   "cell_type": "code",
   "execution_count": 158,
   "metadata": {
    "scrolled": true
   },
   "outputs": [
    {
     "data": {
      "image/png": "[encoded data removed]",
      "text/plain": [
       "<Figure size 1400x800 with 2 Axes>"
      ]
     },
     "metadata": {},
     "output_type": "display_data"
    }
   ],
   "source": [
    "# Correlation matrix and heatmap after dropping the features\n",
    "correlation = X.corr()\n",
    "plt.figure(figsize=(14, 8))\n",
    "sns.heatmap(correlation, annot=True, cmap=\"coolwarm\", fmt=\".2f\", square=True)\n",
    "plt.savefig('images/heap_map1.png')"
   ]
  },
  {
   "cell_type": "markdown",
   "metadata": {},
   "source": [
    "<h4>Further I observe there are features which are negatively correlated hence can be dropped as well </h4>"
   ]
  },
  {
   "cell_type": "code",
   "execution_count": 159,
   "metadata": {},
   "outputs": [
    {
     "data": {
      "text/html": [
       "<div>\n",
       "<style scoped>\n",
       "    .dataframe tbody tr th:only-of-type {\n",
       "        vertical-align: middle;\n",
       "    }\n",
       "\n",
       "    .dataframe tbody tr th {\n",
       "        vertical-align: top;\n",
       "    }\n",
       "\n",
       "    .dataframe thead th {\n",
       "        text-align: right;\n",
       "    }\n",
       "</style>\n",
       "<table border=\"1\" class=\"dataframe\">\n",
       "  <thead>\n",
       "    <tr style=\"text-align: right;\">\n",
       "      <th></th>\n",
       "      <th>age</th>\n",
       "      <th>previous</th>\n",
       "      <th>cons.conf.idx</th>\n",
       "      <th>euribor3m</th>\n",
       "      <th>job_coder</th>\n",
       "      <th>default_coder</th>\n",
       "      <th>month_coder</th>\n",
       "      <th>poutcome_coder</th>\n",
       "    </tr>\n",
       "  </thead>\n",
       "  <tbody>\n",
       "    <tr>\n",
       "      <th>25607</th>\n",
       "      <td>32</td>\n",
       "      <td>1</td>\n",
       "      <td>-42.0</td>\n",
       "      <td>4.120</td>\n",
       "      <td>11.0</td>\n",
       "      <td>0.0</td>\n",
       "      <td>5.0</td>\n",
       "      <td>1.0</td>\n",
       "    </tr>\n",
       "    <tr>\n",
       "      <th>2327</th>\n",
       "      <td>58</td>\n",
       "      <td>0</td>\n",
       "      <td>-36.4</td>\n",
       "      <td>4.856</td>\n",
       "      <td>5.0</td>\n",
       "      <td>0.0</td>\n",
       "      <td>0.0</td>\n",
       "      <td>0.0</td>\n",
       "    </tr>\n",
       "    <tr>\n",
       "      <th>34477</th>\n",
       "      <td>27</td>\n",
       "      <td>0</td>\n",
       "      <td>-46.2</td>\n",
       "      <td>1.266</td>\n",
       "      <td>4.0</td>\n",
       "      <td>0.0</td>\n",
       "      <td>0.0</td>\n",
       "      <td>0.0</td>\n",
       "    </tr>\n",
       "    <tr>\n",
       "      <th>17238</th>\n",
       "      <td>50</td>\n",
       "      <td>0</td>\n",
       "      <td>-42.7</td>\n",
       "      <td>4.962</td>\n",
       "      <td>0.0</td>\n",
       "      <td>1.0</td>\n",
       "      <td>2.0</td>\n",
       "      <td>0.0</td>\n",
       "    </tr>\n",
       "    <tr>\n",
       "      <th>31538</th>\n",
       "      <td>27</td>\n",
       "      <td>0</td>\n",
       "      <td>-46.2</td>\n",
       "      <td>1.327</td>\n",
       "      <td>2.0</td>\n",
       "      <td>0.0</td>\n",
       "      <td>0.0</td>\n",
       "      <td>0.0</td>\n",
       "    </tr>\n",
       "    <tr>\n",
       "      <th>6568</th>\n",
       "      <td>30</td>\n",
       "      <td>0</td>\n",
       "      <td>-36.4</td>\n",
       "      <td>4.857</td>\n",
       "      <td>4.0</td>\n",
       "      <td>0.0</td>\n",
       "      <td>0.0</td>\n",
       "      <td>0.0</td>\n",
       "    </tr>\n",
       "    <tr>\n",
       "      <th>15790</th>\n",
       "      <td>43</td>\n",
       "      <td>0</td>\n",
       "      <td>-42.7</td>\n",
       "      <td>4.960</td>\n",
       "      <td>3.0</td>\n",
       "      <td>1.0</td>\n",
       "      <td>2.0</td>\n",
       "      <td>0.0</td>\n",
       "    </tr>\n",
       "    <tr>\n",
       "      <th>36722</th>\n",
       "      <td>36</td>\n",
       "      <td>1</td>\n",
       "      <td>-40.8</td>\n",
       "      <td>1.268</td>\n",
       "      <td>4.0</td>\n",
       "      <td>0.0</td>\n",
       "      <td>1.0</td>\n",
       "      <td>2.0</td>\n",
       "    </tr>\n",
       "    <tr>\n",
       "      <th>24285</th>\n",
       "      <td>46</td>\n",
       "      <td>1</td>\n",
       "      <td>-42.0</td>\n",
       "      <td>4.191</td>\n",
       "      <td>7.0</td>\n",
       "      <td>0.0</td>\n",
       "      <td>5.0</td>\n",
       "      <td>1.0</td>\n",
       "    </tr>\n",
       "    <tr>\n",
       "      <th>9890</th>\n",
       "      <td>31</td>\n",
       "      <td>0</td>\n",
       "      <td>-41.8</td>\n",
       "      <td>4.959</td>\n",
       "      <td>1.0</td>\n",
       "      <td>0.0</td>\n",
       "      <td>1.0</td>\n",
       "      <td>0.0</td>\n",
       "    </tr>\n",
       "  </tbody>\n",
       "</table>\n",
       "</div>"
      ],
      "text/plain": [
       "       age  previous  cons.conf.idx  euribor3m  job_coder  default_coder  \\\n",
       "25607   32         1          -42.0      4.120       11.0            0.0   \n",
       "2327    58         0          -36.4      4.856        5.0            0.0   \n",
       "34477   27         0          -46.2      1.266        4.0            0.0   \n",
       "17238   50         0          -42.7      4.962        0.0            1.0   \n",
       "31538   27         0          -46.2      1.327        2.0            0.0   \n",
       "6568    30         0          -36.4      4.857        4.0            0.0   \n",
       "15790   43         0          -42.7      4.960        3.0            1.0   \n",
       "36722   36         1          -40.8      1.268        4.0            0.0   \n",
       "24285   46         1          -42.0      4.191        7.0            0.0   \n",
       "9890    31         0          -41.8      4.959        1.0            0.0   \n",
       "\n",
       "       month_coder  poutcome_coder  \n",
       "25607          5.0             1.0  \n",
       "2327           0.0             0.0  \n",
       "34477          0.0             0.0  \n",
       "17238          2.0             0.0  \n",
       "31538          0.0             0.0  \n",
       "6568           0.0             0.0  \n",
       "15790          2.0             0.0  \n",
       "36722          1.0             2.0  \n",
       "24285          5.0             1.0  \n",
       "9890           1.0             0.0  "
      ]
     },
     "execution_count": 159,
     "metadata": {},
     "output_type": "execute_result"
    }
   ],
   "source": [
    "X = X.drop(['pdays','nr.employed','marital_coder','education_coder','day_of_week_coder'], axis=1)\n",
    "X.sample(10)"
   ]
  },
  {
   "cell_type": "code",
   "execution_count": 160,
   "metadata": {},
   "outputs": [
    {
     "data": {
      "image/png": "[encoded data removed]",
      "text/plain": [
       "<Figure size 1400x800 with 2 Axes>"
      ]
     },
     "metadata": {},
     "output_type": "display_data"
    }
   ],
   "source": [
    "# Correlation matrix and heatmap after dropping the features\n",
    "correlation = X.corr()\n",
    "plt.figure(figsize=(14, 8))\n",
    "sns.heatmap(correlation, annot=True, cmap=\"coolwarm\", fmt=\".2f\", square=True)\n",
    "plt.savefig('images/heap_map2.png')"
   ]
  },
  {
   "cell_type": "code",
   "execution_count": 161,
   "metadata": {},
   "outputs": [
    {
     "name": "stdout",
     "output_type": "stream",
     "text": [
      "default_coder\n"
     ]
    }
   ],
   "source": [
    "#examine Correlations :\n",
    "highest_corr = X.corr()[['age']].nlargest(columns = 'age', n = 2).index[1]\n",
    "print(highest_corr)"
   ]
  },
  {
   "cell_type": "code",
   "execution_count": 162,
   "metadata": {},
   "outputs": [
    {
     "name": "stdout",
     "output_type": "stream",
     "text": [
      "euribor3m\n"
     ]
    }
   ],
   "source": [
    "#examine Correlations :\n",
    "highest_corr = X.corr()[['default_coder']].nlargest(columns = 'default_coder', n = 2).index[1]\n",
    "print(highest_corr)"
   ]
  },
  {
   "cell_type": "code",
   "execution_count": 163,
   "metadata": {},
   "outputs": [
    {
     "name": "stdout",
     "output_type": "stream",
     "text": [
      "euribor3m\n"
     ]
    }
   ],
   "source": [
    "#examine Correlations :\n",
    "highest_corr = X.corr()[['cons.conf.idx']].nlargest(columns = 'cons.conf.idx', n = 2).index[1]\n",
    "print(highest_corr)"
   ]
  },
  {
   "cell_type": "code",
   "execution_count": 164,
   "metadata": {},
   "outputs": [
    {
     "data": {
      "image/png": "[encoded data removed]",
      "text/plain": [
       "<Figure size 1000x600 with 1 Axes>"
      ]
     },
     "metadata": {},
     "output_type": "display_data"
    },
    {
     "data": {
      "text/plain": [
       "<Figure size 640x480 with 0 Axes>"
      ]
     },
     "metadata": {},
     "output_type": "display_data"
    }
   ],
   "source": [
    "#visualize the classifiers of the target variable\n",
    "plt.figure(figsize=(10, 6))\n",
    "sns.histplot(df['y'])\n",
    "plt.title('To get the target varible information on Balanced vs unbalanced')\n",
    "plt.xlabel('Subscribed')\n",
    "plt.ylabel('Frequency')\n",
    "plt.show()\n",
    "plt.savefig('images/balancedvsunbalnced.png')"
   ]
  },
  {
   "cell_type": "code",
   "execution_count": 165,
   "metadata": {},
   "outputs": [
    {
     "data": {
      "text/plain": [
       "y\n",
       "0    0.887346\n",
       "1    0.112654\n",
       "Name: proportion, dtype: float64"
      ]
     },
     "execution_count": 165,
     "metadata": {},
     "output_type": "execute_result"
    }
   ],
   "source": [
    "#To get the counts on yes and no so get an understanding weather the dataset is balanced or unbalanced.\n",
    "y.value_counts(normalize = True)"
   ]
  },
  {
   "cell_type": "code",
   "execution_count": 166,
   "metadata": {},
   "outputs": [
    {
     "data": {
      "text/plain": [
       "<Axes: xlabel='euribor3m', ylabel='default_coder'>"
      ]
     },
     "execution_count": 166,
     "metadata": {},
     "output_type": "execute_result"
    },
    {
     "data": {
      "image/png": "[encoded data removed]",
      "text/plain": [
       "<Figure size 640x480 with 1 Axes>"
      ]
     },
     "metadata": {},
     "output_type": "display_data"
    }
   ],
   "source": [
    "#visualize data with a scatter plot on the highest correlated features.\n",
    "sns.scatterplot(data = X, x = 'euribor3m', y = 'default_coder', hue = 'age')"
   ]
  },
  {
   "cell_type": "markdown",
   "metadata": {},
   "source": [
    "### Problem 6: Train/Test Split\n",
    "\n",
    "With your data prepared, split it into a train and test set."
   ]
  },
  {
   "cell_type": "code",
   "execution_count": 167,
   "metadata": {},
   "outputs": [],
   "source": [
    "X_train, X_test, y_train, y_test = train_test_split(X, y, test_size = 0.25, random_state = 42)"
   ]
  },
  {
   "cell_type": "code",
   "execution_count": 168,
   "metadata": {},
   "outputs": [
    {
     "name": "stdout",
     "output_type": "stream",
     "text": [
      "[ 40.04438186   0.1748082  -40.49005536   3.61737555   3.69350296\n",
      "   0.21287754   2.22695931   0.17199184]\n",
      "----------\n",
      "[10.34033241  0.50262448  4.62323873  1.73460528  2.43526851  0.40957896\n",
      "  2.43562541  0.46058625]\n"
     ]
    }
   ],
   "source": [
    "# Standardization\n",
    "scaler = StandardScaler()\n",
    "X_train_scaled = scaler.fit_transform(X_train)\n",
    "X_test_scaled = scaler.fit_transform(X_test)\n",
    "\n",
    "print(scaler.mean_)\n",
    "print('----------')\n",
    "print(scaler.scale_)"
   ]
  },
  {
   "cell_type": "code",
   "execution_count": null,
   "metadata": {},
   "outputs": [],
   "source": []
  },
  {
   "cell_type": "markdown",
   "metadata": {},
   "source": [
    "### Problem 7: A Baseline Model\n",
    "\n",
    "Before we build our first model, we want to establish a baseline.  What is the baseline performance that our classifier should aim to beat?"
   ]
  },
  {
   "cell_type": "markdown",
   "metadata": {},
   "source": [
    "<h4> The baseline score for the classifier by using the DummyClassifier with the training data. Score estimator on the test set. \n",
    "\n",
    "Note: The DummyClassifier works just as all other estimators you have encountered and has a .fit and .score method. </h4>"
   ]
  },
  {
   "cell_type": "code",
   "execution_count": 169,
   "metadata": {},
   "outputs": [
    {
     "name": "stdout",
     "output_type": "stream",
     "text": [
      "0.8880256385354958\n"
     ]
    }
   ],
   "source": [
    "dummy_clf = DummyClassifier().fit(X_train_scaled, y_train)\n",
    "baseline_score = dummy_clf.score(X_test_scaled, y_test)\n",
    "\n",
    "print(baseline_score)"
   ]
  },
  {
   "cell_type": "markdown",
   "metadata": {},
   "source": [
    "### Problem 8: A Simple Model\n",
    "\n",
    "Use Logistic Regression to build a basic model on your data.  "
   ]
  },
  {
   "cell_type": "code",
   "execution_count": 170,
   "metadata": {},
   "outputs": [],
   "source": [
    "logreg = LogisticRegression().fit(X_train_scaled, y_train)"
   ]
  },
  {
   "cell_type": "code",
   "execution_count": 171,
   "metadata": {
    "scrolled": true
   },
   "outputs": [
    {
     "name": "stdout",
     "output_type": "stream",
     "text": [
      "(10297,)\n"
     ]
    },
    {
     "name": "stderr",
     "output_type": "stream",
     "text": [
      "C:\\Users\\pooja\\anaconda3\\Lib\\site-packages\\sklearn\\base.py:432: UserWarning: X has feature names, but LogisticRegression was fitted without feature names\n",
      "  warnings.warn(\n"
     ]
    }
   ],
   "source": [
    "#checking the positive proba\n",
    "positive_probs = logreg.predict_proba(X_test)[: ,1]\n",
    "\n",
    "print(positive_probs.shape) "
   ]
  },
  {
   "cell_type": "code",
   "execution_count": 172,
   "metadata": {},
   "outputs": [
    {
     "data": {
      "text/plain": [
       "array([-0.00033019, -0.00069923, -0.00118481,  0.00229193, -0.00060212,\n",
       "       -0.00019423, -0.00040789,  0.0047004 ])"
      ]
     },
     "execution_count": 172,
     "metadata": {},
     "output_type": "execute_result"
    }
   ],
   "source": [
    "#feature importance evaluation :\n",
    "r = permutation_importance(logreg, X_test_scaled, y_test, random_state = 123)\n",
    "r.importances_mean"
   ]
  },
  {
   "cell_type": "code",
   "execution_count": 173,
   "metadata": {
    "scrolled": true
   },
   "outputs": [
    {
     "data": {
      "text/plain": [
       "Index(['age', 'previous', 'cons.conf.idx', 'euribor3m', 'job_coder',\n",
       "       'default_coder', 'month_coder', 'poutcome_coder'],\n",
       "      dtype='object')"
      ]
     },
     "execution_count": 173,
     "metadata": {},
     "output_type": "execute_result"
    }
   ],
   "source": [
    "X.columns"
   ]
  },
  {
   "cell_type": "code",
   "execution_count": 174,
   "metadata": {},
   "outputs": [
    {
     "name": "stdout",
     "output_type": "stream",
     "text": [
      "('age', -0.00033019326017285077)\n",
      "('previous', -0.0006992327862483938)\n",
      "('cons.conf.idx', -0.0011848111100320358)\n",
      "('euribor3m', 0.0022919296882587537)\n",
      "('job_coder', -0.0006021171214916742)\n",
      "('default_coder', -0.0001942313295133946)\n",
      "('month_coder', -0.0004078857919782131)\n",
      "('poutcome_coder', 0.004700398174225562)\n"
     ]
    }
   ],
   "source": [
    "for i in zip(X.columns, r.importances_mean):\n",
    "    print(i)"
   ]
  },
  {
   "cell_type": "code",
   "execution_count": 175,
   "metadata": {},
   "outputs": [
    {
     "name": "stdout",
     "output_type": "stream",
     "text": [
      "Train_Score:  0.89\n",
      "Test_Score:  0.89\n"
     ]
    }
   ],
   "source": [
    "# Getting training score and testing for comparison\n",
    "lr_pipe = Pipeline([('lr', LogisticRegression())])\n",
    "lr_pipe.fit(X_train_scaled, y_train)\n",
    "lr_pipe_acc_test = lr_pipe.score(X_test_scaled, y_test)\n",
    "lr_pipe_acc_training = lr_pipe.score(X_train_scaled, y_train)\n",
    "\n",
    "print(f'Train_Score: {lr_pipe_acc_training: .2f}\\nTest_Score: {lr_pipe_acc_test: .2f}')"
   ]
  },
  {
   "cell_type": "markdown",
   "metadata": {},
   "source": [
    "### Problem 9: Score the Model\n",
    "\n",
    "What is the accuracy of your model?"
   ]
  },
  {
   "cell_type": "code",
   "execution_count": 176,
   "metadata": {},
   "outputs": [
    {
     "name": "stdout",
     "output_type": "stream",
     "text": [
      "Accuracy:  0.89\n",
      "Precision:  0.12\n",
      "Recall:  0.59\n",
      "F1_Score:  0.19\n"
     ]
    }
   ],
   "source": [
    "#Different Metrics\n",
    "preds = logreg.predict(X_test_scaled)\n",
    "accuracy = accuracy_score(preds, y_test)\n",
    "precision = precision_score(preds, y_test)\n",
    "recall = recall_score(preds, y_test)\n",
    "f1 = f1_score(preds, y_test)\n",
    "\n",
    "print(f'Accuracy: {accuracy: .2f}\\nPrecision: {precision: .2f}\\nRecall: {recall: .2f}\\nF1_Score: {f1: .2f}')"
   ]
  },
  {
   "cell_type": "code",
   "execution_count": 177,
   "metadata": {},
   "outputs": [
    {
     "data": {
      "image/png": "[encoded data removed]",
      "text/plain": [
       "<Figure size 640x480 with 2 Axes>"
      ]
     },
     "metadata": {},
     "output_type": "display_data"
    },
    {
     "name": "stdout",
     "output_type": "stream",
     "text": [
      "<class 'numpy.ndarray'>\n"
     ]
    }
   ],
   "source": [
    "#Confusion Matrix \n",
    "banking_confusion_mat = confusion_matrix(y_test, preds, labels = [1, 0])\n",
    "dist = ConfusionMatrixDisplay(confusion_matrix=banking_confusion_mat, display_labels=['yes', 'no'])\n",
    "dist.plot()\n",
    "plt.show()\n",
    "\n",
    "# Answer check\n",
    "print(type(banking_confusion_mat))"
   ]
  },
  {
   "cell_type": "markdown",
   "metadata": {},
   "source": [
    "### Problem 10: Model Comparisons\n",
    "\n",
    "Now, we aim to compare the performance of the Logistic Regression model to our KNN algorithm, Decision Tree, and SVM models.  Using the default settings for each of the models, fit and score each.  Also, be sure to compare the fit time of each of the models.  Present your findings in a `DataFrame` similar to that below:\n",
    "\n",
    "| Model | Train Time | Train Accuracy | Test Accuracy |\n",
    "| ----- | ---------- | -------------  | -----------   |\n",
    "|     |    |.     |.     |"
   ]
  },
  {
   "cell_type": "markdown",
   "metadata": {},
   "source": [
    "<h3> Some analysis on different models with different performance metrics for default parameters </h3>"
   ]
  },
  {
   "cell_type": "code",
   "execution_count": 178,
   "metadata": {},
   "outputs": [
    {
     "name": "stdout",
     "output_type": "stream",
     "text": [
      "Counter({0: 36548, 1: 36548})\n"
     ]
    }
   ],
   "source": [
    "#SMOTE Generate and plot a synthetic imbalanced classification dataset\n",
    "oversample = SMOTE()\n",
    "X_smote,y_smote = oversample.fit_resample(X,y)\n",
    "print(Counter(y_smote))"
   ]
  },
  {
   "cell_type": "code",
   "execution_count": 179,
   "metadata": {},
   "outputs": [
    {
     "name": "stdout",
     "output_type": "stream",
     "text": [
      "Score with SMOTE:\n",
      "0.6250650859586947\n"
     ]
    }
   ],
   "source": [
    "model = DecisionTreeClassifier()\n",
    "score = cross_val_score(model, X_smote,y_smote, scoring = 'f1', n_jobs = -1, cv = 3)\n",
    "print(\"Score with SMOTE:\")\n",
    "print(score.mean())"
   ]
  },
  {
   "cell_type": "code",
   "execution_count": 180,
   "metadata": {},
   "outputs": [
    {
     "name": "stdout",
     "output_type": "stream",
     "text": [
      "KNN_Accuracy:  0.89\n",
      "KNN_Precision:  0.50\n",
      "KNN_F1_score:  0.35\n",
      "KNN_ROC_Curve:  0.62\n",
      "KNN_Recall:  0.27\n"
     ]
    }
   ],
   "source": [
    "# KNN \n",
    "knn_pipe = Pipeline([('knn', KNeighborsClassifier())])\n",
    "knn_pipe.fit(X_train_scaled, y_train)\n",
    "knn_predict = knn_pipe.predict(X_test_scaled)\n",
    "pre_score = precision_score(y_test, knn_predict)\n",
    "recall = recall_score(y_test, knn_predict)\n",
    "acc_score = accuracy_score(y_test, knn_predict)\n",
    "f1_log = f1_score(y_test,knn_predict)\n",
    "roc_auc_log = roc_auc_score(y_test,knn_predict)\n",
    "\n",
    "print(f'KNN_Accuracy: {acc_score: .2f}\\nKNN_Precision: {pre_score: .2f}\\nKNN_F1_score: {f1_log: .2f}\\nKNN_ROC_Curve: {roc_auc_log: .2f}\\nKNN_Recall: {recall: .2f}')"
   ]
  },
  {
   "cell_type": "code",
   "execution_count": 181,
   "metadata": {},
   "outputs": [
    {
     "name": "stdout",
     "output_type": "stream",
     "text": [
      "DTree_Accuracy:  0.86\n",
      "DTree_Precision:  0.35\n",
      "DTree_F1_score:  0.32\n",
      "DTree_ROC_Curve:  0.62\n",
      "DTree_Recall:  0.30\n"
     ]
    }
   ],
   "source": [
    "# Decision Tree\n",
    "dtree_pipe = Pipeline([('dtree', DecisionTreeClassifier(random_state = 42))])\n",
    "dtree_pipe.fit(X_train_scaled, y_train)\n",
    "dtree_predict = dtree_pipe.predict(X_test_scaled)\n",
    "dtree_pre_score = precision_score(y_test, dtree_predict)\n",
    "dtree_recall = recall_score(y_test, dtree_predict)\n",
    "dtree_acc_score = accuracy_score(y_test, dtree_predict)\n",
    "dtree_f1_log = f1_score(y_test,dtree_predict)\n",
    "dtree_roc_auc_log = roc_auc_score(y_test,dtree_predict)\n",
    "                    \n",
    "print(f'DTree_Accuracy: {dtree_acc_score: .2f}\\nDTree_Precision: {dtree_pre_score: .2f}\\nDTree_F1_score: {dtree_f1_log: .2f}\\nDTree_ROC_Curve: {dtree_roc_auc_log: .2f}\\nDTree_Recall: {dtree_recall: .2f}')"
   ]
  },
  {
   "cell_type": "code",
   "execution_count": 182,
   "metadata": {},
   "outputs": [
    {
     "name": "stdout",
     "output_type": "stream",
     "text": [
      "SVC_Accuracy:  0.90\n",
      "SVC_Precision:  0.65\n",
      "SVC_F1_score:  0.30\n",
      "SVC_ROC_Curve:  0.59\n",
      "SVC_Recall:  0.20\n"
     ]
    }
   ],
   "source": [
    "# SVM \n",
    "svc_pipe = Pipeline([('svc', SVC(kernel='poly'))])\n",
    "svc_pipe.fit(X_train_scaled, y_train)\n",
    "svc_predict = svc_pipe.predict(X_test_scaled)\n",
    "svc_pre_score = precision_score(y_test, svc_predict)\n",
    "svc_recall = recall_score(y_test, svc_predict)\n",
    "svc_acc_score = accuracy_score(y_test, svc_predict)\n",
    "svc_f1_log = f1_score(y_test,svc_predict)\n",
    "svc_roc_auc_log = roc_auc_score(y_test,svc_predict)\n",
    "                    \n",
    "print(f'SVC_Accuracy: {svc_acc_score: .2f}\\nSVC_Precision: {svc_pre_score: .2f}\\nSVC_F1_score: {svc_f1_log: .2f}\\nSVC_ROC_Curve: {svc_roc_auc_log: .2f}\\nSVC_Recall: {svc_recall: .2f}')"
   ]
  },
  {
   "cell_type": "markdown",
   "metadata": {},
   "source": [
    "<h3> Model Comparisons on Train and Test Accuracy </h3>"
   ]
  },
  {
   "cell_type": "code",
   "execution_count": 184,
   "metadata": {},
   "outputs": [
    {
     "name": "stdout",
     "output_type": "stream",
     "text": [
      "Train_Score:  0.91\n",
      "Test_Score:  0.89\n"
     ]
    }
   ],
   "source": [
    "#KNN\n",
    "knn_pipe = Pipeline([('knn', KNeighborsClassifier())])\n",
    "knn_pipe.fit(X_train_scaled, y_train)\n",
    "knn_pipe_acc_test = knn_pipe.score(X_test_scaled, y_test)\n",
    "knn_pipe_acc_training = knn_pipe.score(X_train_scaled, y_train)\n",
    "\n",
    "print(f'Train_Score: {knn_pipe_acc_training: .2f}\\nTest_Score: {knn_pipe_acc_test: .2f}')"
   ]
  },
  {
   "cell_type": "code",
   "execution_count": 185,
   "metadata": {},
   "outputs": [
    {
     "name": "stdout",
     "output_type": "stream",
     "text": [
      "Train_Score:  0.90\n",
      "Test_Score:  0.90\n"
     ]
    }
   ],
   "source": [
    "#SVM\n",
    "svc_pipe = Pipeline([('svc', SVC(kernel='poly'))])\n",
    "svc_pipe.fit(X_train_scaled, y_train)\n",
    "svc_pipe_acc_test = svc_pipe.score(X_test_scaled, y_test)\n",
    "svc_pipe_acc_training = svc_pipe.score(X_train_scaled, y_train)\n",
    "\n",
    "print(f'Train_Score: {svc_pipe_acc_training: .2f}\\nTest_Score: {svc_pipe_acc_test: .2f}')"
   ]
  },
  {
   "cell_type": "code",
   "execution_count": 186,
   "metadata": {},
   "outputs": [
    {
     "name": "stdout",
     "output_type": "stream",
     "text": [
      "Train_Score:  0.96\n",
      "Test_Score:  0.86\n"
     ]
    }
   ],
   "source": [
    "#Decision Tree\n",
    "dtree_pipe = Pipeline([('dtree', DecisionTreeClassifier(random_state = 42))])\n",
    "dtree_pipe.fit(X_train_scaled, y_train)\n",
    "dtree_pipe_acc_test = dtree_pipe.score(X_test_scaled, y_test)\n",
    "dtree_pipe_acc_training = dtree_pipe.score(X_train_scaled, y_train)\n",
    "\n",
    "print(f'Train_Score: {dtree_pipe_acc_training: .2f}\\nTest_Score: {dtree_pipe_acc_test: .2f}')"
   ]
  },
  {
   "cell_type": "code",
   "execution_count": 187,
   "metadata": {},
   "outputs": [
    {
     "data": {
      "text/html": [
       "<div>\n",
       "<style scoped>\n",
       "    .dataframe tbody tr th:only-of-type {\n",
       "        vertical-align: middle;\n",
       "    }\n",
       "\n",
       "    .dataframe tbody tr th {\n",
       "        vertical-align: top;\n",
       "    }\n",
       "\n",
       "    .dataframe thead th {\n",
       "        text-align: right;\n",
       "    }\n",
       "</style>\n",
       "<table border=\"1\" class=\"dataframe\">\n",
       "  <thead>\n",
       "    <tr style=\"text-align: right;\">\n",
       "      <th></th>\n",
       "      <th>Train Accuracy</th>\n",
       "      <th>Test Accuracy</th>\n",
       "      <th>Training Time(secs)</th>\n",
       "    </tr>\n",
       "    <tr>\n",
       "      <th>Model</th>\n",
       "      <th></th>\n",
       "      <th></th>\n",
       "      <th></th>\n",
       "    </tr>\n",
       "  </thead>\n",
       "  <tbody>\n",
       "    <tr>\n",
       "      <th>KNN</th>\n",
       "      <td>0.91</td>\n",
       "      <td>0.89</td>\n",
       "      <td>2</td>\n",
       "    </tr>\n",
       "    <tr>\n",
       "      <th>Logistic Regression</th>\n",
       "      <td>0.89</td>\n",
       "      <td>0.89</td>\n",
       "      <td>2</td>\n",
       "    </tr>\n",
       "    <tr>\n",
       "      <th>Decision Tree</th>\n",
       "      <td>0.96</td>\n",
       "      <td>0.86</td>\n",
       "      <td>2</td>\n",
       "    </tr>\n",
       "    <tr>\n",
       "      <th>SVC</th>\n",
       "      <td>0.90</td>\n",
       "      <td>0.90</td>\n",
       "      <td>60</td>\n",
       "    </tr>\n",
       "  </tbody>\n",
       "</table>\n",
       "</div>"
      ],
      "text/plain": [
       "                     Train Accuracy  Test Accuracy  Training Time(secs)\n",
       "Model                                                                  \n",
       "KNN                            0.91           0.89                    2\n",
       "Logistic Regression            0.89           0.89                    2\n",
       "Decision Tree                  0.96           0.86                    2\n",
       "SVC                            0.90           0.90                   60"
      ]
     },
     "execution_count": 187,
     "metadata": {},
     "output_type": "execute_result"
    }
   ],
   "source": [
    "results_df = ''\n",
    "\n",
    "res_dict = {'Model': ['KNN', 'Logistic Regression', 'Decision Tree','SVC'],\n",
    "           'Train Accuracy': [0.91, 0.89, 0.96, 0.90],\n",
    "           'Test Accuracy': [0.89, 0.89, 0.86, 0.90],\n",
    "           'Training Time(secs)': [2, 2, 2, 60]}\n",
    "results_df = pd.DataFrame(res_dict).set_index('Model')\n",
    "\n",
    "results_df"
   ]
  },
  {
   "cell_type": "markdown",
   "metadata": {},
   "source": [
    "# Explaination of the above comparison\n",
    "<h3>\n",
    "    1. Decision Trees training accuracy is good however KNN and Logistic Regression test accuracy is good and faster training time. \n",
    "    \n",
    "    2. When we look at SVC the training and test accuracy are good but training time is highly computational.\n",
    "</h3>"
   ]
  },
  {
   "cell_type": "markdown",
   "metadata": {},
   "source": [
    "### Problem 11: Improving the Model\n",
    "\n",
    "Now that we have some basic models on the board, we want to try to improve these.  Below, we list a few things to explore in this pursuit.\n",
    "\n",
    "- More feature engineering and exploration.  For example, should we keep the gender feature?  Why or why not?\n",
    "- Hyperparameter tuning and grid search.  All of our models have additional hyperparameters to tune and explore.  For example the number of neighbors in KNN or the maximum depth of a Decision Tree.  \n",
    "- Adjust your performance metric"
   ]
  },
  {
   "cell_type": "markdown",
   "metadata": {},
   "source": [
    "<h3> I would like to do some feature engineering and exploration with features dropped in the initial round of analysis.</h3>"
   ]
  },
  {
   "cell_type": "code",
   "execution_count": 188,
   "metadata": {},
   "outputs": [
    {
     "data": {
      "text/html": [
       "<div>\n",
       "<style scoped>\n",
       "    .dataframe tbody tr th:only-of-type {\n",
       "        vertical-align: middle;\n",
       "    }\n",
       "\n",
       "    .dataframe tbody tr th {\n",
       "        vertical-align: top;\n",
       "    }\n",
       "\n",
       "    .dataframe thead th {\n",
       "        text-align: right;\n",
       "    }\n",
       "</style>\n",
       "<table border=\"1\" class=\"dataframe\">\n",
       "  <thead>\n",
       "    <tr style=\"text-align: right;\">\n",
       "      <th></th>\n",
       "      <th>age</th>\n",
       "      <th>job</th>\n",
       "      <th>marital</th>\n",
       "      <th>education</th>\n",
       "      <th>default</th>\n",
       "      <th>housing</th>\n",
       "      <th>loan</th>\n",
       "      <th>contact</th>\n",
       "      <th>month</th>\n",
       "      <th>day_of_week</th>\n",
       "      <th>...</th>\n",
       "      <th>campaign</th>\n",
       "      <th>pdays</th>\n",
       "      <th>previous</th>\n",
       "      <th>poutcome</th>\n",
       "      <th>emp.var.rate</th>\n",
       "      <th>cons.price.idx</th>\n",
       "      <th>cons.conf.idx</th>\n",
       "      <th>euribor3m</th>\n",
       "      <th>nr.employed</th>\n",
       "      <th>y</th>\n",
       "    </tr>\n",
       "  </thead>\n",
       "  <tbody>\n",
       "    <tr>\n",
       "      <th>0</th>\n",
       "      <td>56</td>\n",
       "      <td>housemaid</td>\n",
       "      <td>married</td>\n",
       "      <td>basic.4y</td>\n",
       "      <td>no</td>\n",
       "      <td>no</td>\n",
       "      <td>no</td>\n",
       "      <td>telephone</td>\n",
       "      <td>may</td>\n",
       "      <td>mon</td>\n",
       "      <td>...</td>\n",
       "      <td>1</td>\n",
       "      <td>999</td>\n",
       "      <td>0</td>\n",
       "      <td>nonexistent</td>\n",
       "      <td>1.1</td>\n",
       "      <td>93.994</td>\n",
       "      <td>-36.4</td>\n",
       "      <td>4.857</td>\n",
       "      <td>5191.0</td>\n",
       "      <td>no</td>\n",
       "    </tr>\n",
       "    <tr>\n",
       "      <th>1</th>\n",
       "      <td>57</td>\n",
       "      <td>services</td>\n",
       "      <td>married</td>\n",
       "      <td>high.school</td>\n",
       "      <td>unknown</td>\n",
       "      <td>no</td>\n",
       "      <td>no</td>\n",
       "      <td>telephone</td>\n",
       "      <td>may</td>\n",
       "      <td>mon</td>\n",
       "      <td>...</td>\n",
       "      <td>1</td>\n",
       "      <td>999</td>\n",
       "      <td>0</td>\n",
       "      <td>nonexistent</td>\n",
       "      <td>1.1</td>\n",
       "      <td>93.994</td>\n",
       "      <td>-36.4</td>\n",
       "      <td>4.857</td>\n",
       "      <td>5191.0</td>\n",
       "      <td>no</td>\n",
       "    </tr>\n",
       "    <tr>\n",
       "      <th>2</th>\n",
       "      <td>37</td>\n",
       "      <td>services</td>\n",
       "      <td>married</td>\n",
       "      <td>high.school</td>\n",
       "      <td>no</td>\n",
       "      <td>yes</td>\n",
       "      <td>no</td>\n",
       "      <td>telephone</td>\n",
       "      <td>may</td>\n",
       "      <td>mon</td>\n",
       "      <td>...</td>\n",
       "      <td>1</td>\n",
       "      <td>999</td>\n",
       "      <td>0</td>\n",
       "      <td>nonexistent</td>\n",
       "      <td>1.1</td>\n",
       "      <td>93.994</td>\n",
       "      <td>-36.4</td>\n",
       "      <td>4.857</td>\n",
       "      <td>5191.0</td>\n",
       "      <td>no</td>\n",
       "    </tr>\n",
       "    <tr>\n",
       "      <th>3</th>\n",
       "      <td>40</td>\n",
       "      <td>admin.</td>\n",
       "      <td>married</td>\n",
       "      <td>basic.6y</td>\n",
       "      <td>no</td>\n",
       "      <td>no</td>\n",
       "      <td>no</td>\n",
       "      <td>telephone</td>\n",
       "      <td>may</td>\n",
       "      <td>mon</td>\n",
       "      <td>...</td>\n",
       "      <td>1</td>\n",
       "      <td>999</td>\n",
       "      <td>0</td>\n",
       "      <td>nonexistent</td>\n",
       "      <td>1.1</td>\n",
       "      <td>93.994</td>\n",
       "      <td>-36.4</td>\n",
       "      <td>4.857</td>\n",
       "      <td>5191.0</td>\n",
       "      <td>no</td>\n",
       "    </tr>\n",
       "    <tr>\n",
       "      <th>4</th>\n",
       "      <td>56</td>\n",
       "      <td>services</td>\n",
       "      <td>married</td>\n",
       "      <td>high.school</td>\n",
       "      <td>no</td>\n",
       "      <td>no</td>\n",
       "      <td>yes</td>\n",
       "      <td>telephone</td>\n",
       "      <td>may</td>\n",
       "      <td>mon</td>\n",
       "      <td>...</td>\n",
       "      <td>1</td>\n",
       "      <td>999</td>\n",
       "      <td>0</td>\n",
       "      <td>nonexistent</td>\n",
       "      <td>1.1</td>\n",
       "      <td>93.994</td>\n",
       "      <td>-36.4</td>\n",
       "      <td>4.857</td>\n",
       "      <td>5191.0</td>\n",
       "      <td>no</td>\n",
       "    </tr>\n",
       "  </tbody>\n",
       "</table>\n",
       "<p>5 rows × 21 columns</p>\n",
       "</div>"
      ],
      "text/plain": [
       "   age        job  marital    education  default housing loan    contact  \\\n",
       "0   56  housemaid  married     basic.4y       no      no   no  telephone   \n",
       "1   57   services  married  high.school  unknown      no   no  telephone   \n",
       "2   37   services  married  high.school       no     yes   no  telephone   \n",
       "3   40     admin.  married     basic.6y       no      no   no  telephone   \n",
       "4   56   services  married  high.school       no      no  yes  telephone   \n",
       "\n",
       "  month day_of_week  ...  campaign  pdays  previous     poutcome emp.var.rate  \\\n",
       "0   may         mon  ...         1    999         0  nonexistent          1.1   \n",
       "1   may         mon  ...         1    999         0  nonexistent          1.1   \n",
       "2   may         mon  ...         1    999         0  nonexistent          1.1   \n",
       "3   may         mon  ...         1    999         0  nonexistent          1.1   \n",
       "4   may         mon  ...         1    999         0  nonexistent          1.1   \n",
       "\n",
       "   cons.price.idx  cons.conf.idx  euribor3m  nr.employed   y  \n",
       "0          93.994          -36.4      4.857       5191.0  no  \n",
       "1          93.994          -36.4      4.857       5191.0  no  \n",
       "2          93.994          -36.4      4.857       5191.0  no  \n",
       "3          93.994          -36.4      4.857       5191.0  no  \n",
       "4          93.994          -36.4      4.857       5191.0  no  \n",
       "\n",
       "[5 rows x 21 columns]"
      ]
     },
     "execution_count": 188,
     "metadata": {},
     "output_type": "execute_result"
    }
   ],
   "source": [
    "df.head()"
   ]
  },
  {
   "cell_type": "code",
   "execution_count": 189,
   "metadata": {},
   "outputs": [
    {
     "data": {
      "text/plain": [
       "['duration',\n",
       " 'campaign',\n",
       " 'emp.var.rate',\n",
       " 'cons.price.idx',\n",
       " 'housing_coder',\n",
       " 'loan_coder',\n",
       " 'contact_coder']"
      ]
     },
     "execution_count": 189,
     "metadata": {},
     "output_type": "execute_result"
    }
   ],
   "source": [
    "['duration','campaign','emp.var.rate','cons.price.idx','housing_coder','loan_coder','contact_coder']"
   ]
  },
  {
   "cell_type": "code",
   "execution_count": 190,
   "metadata": {},
   "outputs": [
    {
     "name": "stdout",
     "output_type": "stream",
     "text": [
      "<class 'pandas.core.frame.DataFrame'>\n",
      "RangeIndex: 41188 entries, 0 to 41187\n",
      "Data columns (total 21 columns):\n",
      " #   Column          Non-Null Count  Dtype  \n",
      "---  ------          --------------  -----  \n",
      " 0   age             41188 non-null  int64  \n",
      " 1   job             41188 non-null  object \n",
      " 2   marital         41188 non-null  object \n",
      " 3   education       41188 non-null  object \n",
      " 4   default         41188 non-null  object \n",
      " 5   housing         41188 non-null  object \n",
      " 6   loan            41188 non-null  object \n",
      " 7   contact         41188 non-null  object \n",
      " 8   month           41188 non-null  object \n",
      " 9   day_of_week     41188 non-null  object \n",
      " 10  duration        41188 non-null  int64  \n",
      " 11  campaign        41188 non-null  int64  \n",
      " 12  pdays           41188 non-null  int64  \n",
      " 13  previous        41188 non-null  int64  \n",
      " 14  poutcome        41188 non-null  object \n",
      " 15  emp.var.rate    41188 non-null  float64\n",
      " 16  cons.price.idx  41188 non-null  float64\n",
      " 17  cons.conf.idx   41188 non-null  float64\n",
      " 18  euribor3m       41188 non-null  float64\n",
      " 19  nr.employed     41188 non-null  float64\n",
      " 20  y               41188 non-null  object \n",
      "dtypes: float64(5), int64(5), object(11)\n",
      "memory usage: 6.6+ MB\n"
     ]
    }
   ],
   "source": [
    "df.info()"
   ]
  },
  {
   "cell_type": "code",
   "execution_count": 191,
   "metadata": {},
   "outputs": [],
   "source": [
    "X_improved = df.drop('y', axis=1)  # Using all features except the target\n",
    "y_improved = df['y']"
   ]
  },
  {
   "cell_type": "code",
   "execution_count": 192,
   "metadata": {
    "scrolled": true
   },
   "outputs": [
    {
     "data": {
      "text/html": [
       "<div>\n",
       "<style scoped>\n",
       "    .dataframe tbody tr th:only-of-type {\n",
       "        vertical-align: middle;\n",
       "    }\n",
       "\n",
       "    .dataframe tbody tr th {\n",
       "        vertical-align: top;\n",
       "    }\n",
       "\n",
       "    .dataframe thead th {\n",
       "        text-align: right;\n",
       "    }\n",
       "</style>\n",
       "<table border=\"1\" class=\"dataframe\">\n",
       "  <thead>\n",
       "    <tr style=\"text-align: right;\">\n",
       "      <th></th>\n",
       "      <th>age</th>\n",
       "      <th>job</th>\n",
       "      <th>default</th>\n",
       "      <th>housing</th>\n",
       "      <th>loan</th>\n",
       "      <th>contact</th>\n",
       "      <th>month</th>\n",
       "      <th>duration</th>\n",
       "      <th>campaign</th>\n",
       "      <th>previous</th>\n",
       "      <th>poutcome</th>\n",
       "      <th>emp.var.rate</th>\n",
       "      <th>cons.price.idx</th>\n",
       "      <th>cons.conf.idx</th>\n",
       "      <th>euribor3m</th>\n",
       "    </tr>\n",
       "  </thead>\n",
       "  <tbody>\n",
       "    <tr>\n",
       "      <th>22924</th>\n",
       "      <td>57</td>\n",
       "      <td>services</td>\n",
       "      <td>unknown</td>\n",
       "      <td>yes</td>\n",
       "      <td>no</td>\n",
       "      <td>telephone</td>\n",
       "      <td>aug</td>\n",
       "      <td>41</td>\n",
       "      <td>9</td>\n",
       "      <td>0</td>\n",
       "      <td>nonexistent</td>\n",
       "      <td>1.4</td>\n",
       "      <td>93.444</td>\n",
       "      <td>-36.1</td>\n",
       "      <td>4.965</td>\n",
       "    </tr>\n",
       "    <tr>\n",
       "      <th>24963</th>\n",
       "      <td>31</td>\n",
       "      <td>student</td>\n",
       "      <td>no</td>\n",
       "      <td>yes</td>\n",
       "      <td>yes</td>\n",
       "      <td>cellular</td>\n",
       "      <td>nov</td>\n",
       "      <td>107</td>\n",
       "      <td>1</td>\n",
       "      <td>0</td>\n",
       "      <td>nonexistent</td>\n",
       "      <td>-0.1</td>\n",
       "      <td>93.200</td>\n",
       "      <td>-42.0</td>\n",
       "      <td>4.153</td>\n",
       "    </tr>\n",
       "    <tr>\n",
       "      <th>20024</th>\n",
       "      <td>39</td>\n",
       "      <td>technician</td>\n",
       "      <td>no</td>\n",
       "      <td>yes</td>\n",
       "      <td>no</td>\n",
       "      <td>cellular</td>\n",
       "      <td>aug</td>\n",
       "      <td>445</td>\n",
       "      <td>3</td>\n",
       "      <td>0</td>\n",
       "      <td>nonexistent</td>\n",
       "      <td>1.4</td>\n",
       "      <td>93.444</td>\n",
       "      <td>-36.1</td>\n",
       "      <td>4.966</td>\n",
       "    </tr>\n",
       "    <tr>\n",
       "      <th>2967</th>\n",
       "      <td>50</td>\n",
       "      <td>admin.</td>\n",
       "      <td>no</td>\n",
       "      <td>no</td>\n",
       "      <td>yes</td>\n",
       "      <td>telephone</td>\n",
       "      <td>may</td>\n",
       "      <td>49</td>\n",
       "      <td>1</td>\n",
       "      <td>0</td>\n",
       "      <td>nonexistent</td>\n",
       "      <td>1.1</td>\n",
       "      <td>93.994</td>\n",
       "      <td>-36.4</td>\n",
       "      <td>4.859</td>\n",
       "    </tr>\n",
       "    <tr>\n",
       "      <th>7755</th>\n",
       "      <td>51</td>\n",
       "      <td>admin.</td>\n",
       "      <td>no</td>\n",
       "      <td>no</td>\n",
       "      <td>no</td>\n",
       "      <td>telephone</td>\n",
       "      <td>may</td>\n",
       "      <td>25</td>\n",
       "      <td>5</td>\n",
       "      <td>0</td>\n",
       "      <td>nonexistent</td>\n",
       "      <td>1.1</td>\n",
       "      <td>93.994</td>\n",
       "      <td>-36.4</td>\n",
       "      <td>4.864</td>\n",
       "    </tr>\n",
       "    <tr>\n",
       "      <th>19315</th>\n",
       "      <td>32</td>\n",
       "      <td>technician</td>\n",
       "      <td>no</td>\n",
       "      <td>yes</td>\n",
       "      <td>no</td>\n",
       "      <td>cellular</td>\n",
       "      <td>aug</td>\n",
       "      <td>166</td>\n",
       "      <td>2</td>\n",
       "      <td>0</td>\n",
       "      <td>nonexistent</td>\n",
       "      <td>1.4</td>\n",
       "      <td>93.444</td>\n",
       "      <td>-36.1</td>\n",
       "      <td>4.967</td>\n",
       "    </tr>\n",
       "    <tr>\n",
       "      <th>12610</th>\n",
       "      <td>49</td>\n",
       "      <td>blue-collar</td>\n",
       "      <td>unknown</td>\n",
       "      <td>unknown</td>\n",
       "      <td>unknown</td>\n",
       "      <td>cellular</td>\n",
       "      <td>jul</td>\n",
       "      <td>375</td>\n",
       "      <td>3</td>\n",
       "      <td>0</td>\n",
       "      <td>nonexistent</td>\n",
       "      <td>1.4</td>\n",
       "      <td>93.918</td>\n",
       "      <td>-42.7</td>\n",
       "      <td>4.960</td>\n",
       "    </tr>\n",
       "    <tr>\n",
       "      <th>24634</th>\n",
       "      <td>43</td>\n",
       "      <td>management</td>\n",
       "      <td>no</td>\n",
       "      <td>yes</td>\n",
       "      <td>no</td>\n",
       "      <td>cellular</td>\n",
       "      <td>nov</td>\n",
       "      <td>488</td>\n",
       "      <td>2</td>\n",
       "      <td>0</td>\n",
       "      <td>nonexistent</td>\n",
       "      <td>-0.1</td>\n",
       "      <td>93.200</td>\n",
       "      <td>-42.0</td>\n",
       "      <td>4.191</td>\n",
       "    </tr>\n",
       "    <tr>\n",
       "      <th>18106</th>\n",
       "      <td>44</td>\n",
       "      <td>admin.</td>\n",
       "      <td>no</td>\n",
       "      <td>yes</td>\n",
       "      <td>no</td>\n",
       "      <td>cellular</td>\n",
       "      <td>jul</td>\n",
       "      <td>153</td>\n",
       "      <td>1</td>\n",
       "      <td>0</td>\n",
       "      <td>nonexistent</td>\n",
       "      <td>1.4</td>\n",
       "      <td>93.918</td>\n",
       "      <td>-42.7</td>\n",
       "      <td>4.963</td>\n",
       "    </tr>\n",
       "    <tr>\n",
       "      <th>36178</th>\n",
       "      <td>61</td>\n",
       "      <td>blue-collar</td>\n",
       "      <td>no</td>\n",
       "      <td>no</td>\n",
       "      <td>yes</td>\n",
       "      <td>cellular</td>\n",
       "      <td>may</td>\n",
       "      <td>74</td>\n",
       "      <td>2</td>\n",
       "      <td>0</td>\n",
       "      <td>nonexistent</td>\n",
       "      <td>-1.8</td>\n",
       "      <td>92.893</td>\n",
       "      <td>-46.2</td>\n",
       "      <td>1.270</td>\n",
       "    </tr>\n",
       "  </tbody>\n",
       "</table>\n",
       "</div>"
      ],
      "text/plain": [
       "       age          job  default  housing     loan    contact month  duration  \\\n",
       "22924   57     services  unknown      yes       no  telephone   aug        41   \n",
       "24963   31      student       no      yes      yes   cellular   nov       107   \n",
       "20024   39   technician       no      yes       no   cellular   aug       445   \n",
       "2967    50       admin.       no       no      yes  telephone   may        49   \n",
       "7755    51       admin.       no       no       no  telephone   may        25   \n",
       "19315   32   technician       no      yes       no   cellular   aug       166   \n",
       "12610   49  blue-collar  unknown  unknown  unknown   cellular   jul       375   \n",
       "24634   43   management       no      yes       no   cellular   nov       488   \n",
       "18106   44       admin.       no      yes       no   cellular   jul       153   \n",
       "36178   61  blue-collar       no       no      yes   cellular   may        74   \n",
       "\n",
       "       campaign  previous     poutcome  emp.var.rate  cons.price.idx  \\\n",
       "22924         9         0  nonexistent           1.4          93.444   \n",
       "24963         1         0  nonexistent          -0.1          93.200   \n",
       "20024         3         0  nonexistent           1.4          93.444   \n",
       "2967          1         0  nonexistent           1.1          93.994   \n",
       "7755          5         0  nonexistent           1.1          93.994   \n",
       "19315         2         0  nonexistent           1.4          93.444   \n",
       "12610         3         0  nonexistent           1.4          93.918   \n",
       "24634         2         0  nonexistent          -0.1          93.200   \n",
       "18106         1         0  nonexistent           1.4          93.918   \n",
       "36178         2         0  nonexistent          -1.8          92.893   \n",
       "\n",
       "       cons.conf.idx  euribor3m  \n",
       "22924          -36.1      4.965  \n",
       "24963          -42.0      4.153  \n",
       "20024          -36.1      4.966  \n",
       "2967           -36.4      4.859  \n",
       "7755           -36.4      4.864  \n",
       "19315          -36.1      4.967  \n",
       "12610          -42.7      4.960  \n",
       "24634          -42.0      4.191  \n",
       "18106          -42.7      4.963  \n",
       "36178          -46.2      1.270  "
      ]
     },
     "execution_count": 192,
     "metadata": {},
     "output_type": "execute_result"
    }
   ],
   "source": [
    "X_improved = X_improved.drop(['pdays','nr.employed','marital','education','day_of_week'], axis=1)\n",
    "X_improved.sample(10)"
   ]
  },
  {
   "cell_type": "markdown",
   "metadata": {},
   "source": [
    "<h3> Reason to drop the above features are they are not highly correlated but this round i did consider some imporant features like duration </h3>"
   ]
  },
  {
   "cell_type": "code",
   "execution_count": 193,
   "metadata": {},
   "outputs": [],
   "source": [
    "#Mapping the target feature 'y'\n",
    "target_map = {'yes': 1, 'no': 0}"
   ]
  },
  {
   "cell_type": "code",
   "execution_count": 194,
   "metadata": {},
   "outputs": [
    {
     "data": {
      "text/plain": [
       "0        0\n",
       "1        0\n",
       "2        0\n",
       "3        0\n",
       "4        0\n",
       "        ..\n",
       "41183    1\n",
       "41184    0\n",
       "41185    0\n",
       "41186    1\n",
       "41187    0\n",
       "Name: y, Length: 41188, dtype: int64"
      ]
     },
     "execution_count": 194,
     "metadata": {},
     "output_type": "execute_result"
    }
   ],
   "source": [
    "y_improved = y_improved.map(target_map)\n",
    "y_improved"
   ]
  },
  {
   "cell_type": "code",
   "execution_count": 195,
   "metadata": {},
   "outputs": [],
   "source": [
    "#Transforming the categorical features\n",
    "oe = OrdinalEncoder(categories = [['housemaid', 'services', 'admin.', 'blue-collar', 'technician',\n",
    "       'retired', 'management', 'unemployed', 'self-employed', 'unknown',\n",
    "       'entrepreneur', 'student']])\n",
    "X_improved['job_coder'] = oe.fit_transform(X_improved[['job']])"
   ]
  },
  {
   "cell_type": "code",
   "execution_count": 196,
   "metadata": {},
   "outputs": [],
   "source": [
    "oe = OrdinalEncoder(categories = [['no', 'unknown', 'yes']])\n",
    "X_improved['default_coder'] = oe.fit_transform(X_improved[['default']])"
   ]
  },
  {
   "cell_type": "code",
   "execution_count": 197,
   "metadata": {},
   "outputs": [],
   "source": [
    "oe = OrdinalEncoder(categories = [['no', 'unknown', 'yes']])\n",
    "X_improved['housing_coder'] = oe.fit_transform(X_improved[['housing']])"
   ]
  },
  {
   "cell_type": "code",
   "execution_count": 198,
   "metadata": {},
   "outputs": [],
   "source": [
    "oe = OrdinalEncoder(categories = [['no', 'unknown', 'yes']])\n",
    "X_improved['loan_coder'] = oe.fit_transform(X_improved[['loan']])"
   ]
  },
  {
   "cell_type": "code",
   "execution_count": 199,
   "metadata": {},
   "outputs": [],
   "source": [
    "oe = OrdinalEncoder(categories = [['telephone', 'cellular']])\n",
    "X_improved['contact_coder'] = oe.fit_transform(X_improved[['contact']])"
   ]
  },
  {
   "cell_type": "code",
   "execution_count": 200,
   "metadata": {},
   "outputs": [],
   "source": [
    "oe = OrdinalEncoder(categories = [['may', 'jun', 'jul', 'aug', 'oct', 'nov', 'dec', 'mar', 'apr',\n",
    "       'sep']])\n",
    "X_improved['month_coder'] = oe.fit_transform(X_improved[['month']])"
   ]
  },
  {
   "cell_type": "code",
   "execution_count": 201,
   "metadata": {},
   "outputs": [],
   "source": [
    "oe = OrdinalEncoder(categories = [['nonexistent', 'failure', 'success']])\n",
    "X_improved['poutcome_coder'] = oe.fit_transform(X_improved[['poutcome']])"
   ]
  },
  {
   "cell_type": "code",
   "execution_count": 202,
   "metadata": {},
   "outputs": [
    {
     "data": {
      "text/html": [
       "<div>\n",
       "<style scoped>\n",
       "    .dataframe tbody tr th:only-of-type {\n",
       "        vertical-align: middle;\n",
       "    }\n",
       "\n",
       "    .dataframe tbody tr th {\n",
       "        vertical-align: top;\n",
       "    }\n",
       "\n",
       "    .dataframe thead th {\n",
       "        text-align: right;\n",
       "    }\n",
       "</style>\n",
       "<table border=\"1\" class=\"dataframe\">\n",
       "  <thead>\n",
       "    <tr style=\"text-align: right;\">\n",
       "      <th></th>\n",
       "      <th>age</th>\n",
       "      <th>job</th>\n",
       "      <th>default</th>\n",
       "      <th>housing</th>\n",
       "      <th>loan</th>\n",
       "      <th>contact</th>\n",
       "      <th>month</th>\n",
       "      <th>duration</th>\n",
       "      <th>campaign</th>\n",
       "      <th>previous</th>\n",
       "      <th>...</th>\n",
       "      <th>cons.price.idx</th>\n",
       "      <th>cons.conf.idx</th>\n",
       "      <th>euribor3m</th>\n",
       "      <th>job_coder</th>\n",
       "      <th>default_coder</th>\n",
       "      <th>housing_coder</th>\n",
       "      <th>loan_coder</th>\n",
       "      <th>contact_coder</th>\n",
       "      <th>month_coder</th>\n",
       "      <th>poutcome_coder</th>\n",
       "    </tr>\n",
       "  </thead>\n",
       "  <tbody>\n",
       "    <tr>\n",
       "      <th>0</th>\n",
       "      <td>56</td>\n",
       "      <td>housemaid</td>\n",
       "      <td>no</td>\n",
       "      <td>no</td>\n",
       "      <td>no</td>\n",
       "      <td>telephone</td>\n",
       "      <td>may</td>\n",
       "      <td>261</td>\n",
       "      <td>1</td>\n",
       "      <td>0</td>\n",
       "      <td>...</td>\n",
       "      <td>93.994</td>\n",
       "      <td>-36.4</td>\n",
       "      <td>4.857</td>\n",
       "      <td>0.0</td>\n",
       "      <td>0.0</td>\n",
       "      <td>0.0</td>\n",
       "      <td>0.0</td>\n",
       "      <td>0.0</td>\n",
       "      <td>0.0</td>\n",
       "      <td>0.0</td>\n",
       "    </tr>\n",
       "    <tr>\n",
       "      <th>1</th>\n",
       "      <td>57</td>\n",
       "      <td>services</td>\n",
       "      <td>unknown</td>\n",
       "      <td>no</td>\n",
       "      <td>no</td>\n",
       "      <td>telephone</td>\n",
       "      <td>may</td>\n",
       "      <td>149</td>\n",
       "      <td>1</td>\n",
       "      <td>0</td>\n",
       "      <td>...</td>\n",
       "      <td>93.994</td>\n",
       "      <td>-36.4</td>\n",
       "      <td>4.857</td>\n",
       "      <td>1.0</td>\n",
       "      <td>1.0</td>\n",
       "      <td>0.0</td>\n",
       "      <td>0.0</td>\n",
       "      <td>0.0</td>\n",
       "      <td>0.0</td>\n",
       "      <td>0.0</td>\n",
       "    </tr>\n",
       "    <tr>\n",
       "      <th>2</th>\n",
       "      <td>37</td>\n",
       "      <td>services</td>\n",
       "      <td>no</td>\n",
       "      <td>yes</td>\n",
       "      <td>no</td>\n",
       "      <td>telephone</td>\n",
       "      <td>may</td>\n",
       "      <td>226</td>\n",
       "      <td>1</td>\n",
       "      <td>0</td>\n",
       "      <td>...</td>\n",
       "      <td>93.994</td>\n",
       "      <td>-36.4</td>\n",
       "      <td>4.857</td>\n",
       "      <td>1.0</td>\n",
       "      <td>0.0</td>\n",
       "      <td>2.0</td>\n",
       "      <td>0.0</td>\n",
       "      <td>0.0</td>\n",
       "      <td>0.0</td>\n",
       "      <td>0.0</td>\n",
       "    </tr>\n",
       "    <tr>\n",
       "      <th>3</th>\n",
       "      <td>40</td>\n",
       "      <td>admin.</td>\n",
       "      <td>no</td>\n",
       "      <td>no</td>\n",
       "      <td>no</td>\n",
       "      <td>telephone</td>\n",
       "      <td>may</td>\n",
       "      <td>151</td>\n",
       "      <td>1</td>\n",
       "      <td>0</td>\n",
       "      <td>...</td>\n",
       "      <td>93.994</td>\n",
       "      <td>-36.4</td>\n",
       "      <td>4.857</td>\n",
       "      <td>2.0</td>\n",
       "      <td>0.0</td>\n",
       "      <td>0.0</td>\n",
       "      <td>0.0</td>\n",
       "      <td>0.0</td>\n",
       "      <td>0.0</td>\n",
       "      <td>0.0</td>\n",
       "    </tr>\n",
       "    <tr>\n",
       "      <th>4</th>\n",
       "      <td>56</td>\n",
       "      <td>services</td>\n",
       "      <td>no</td>\n",
       "      <td>no</td>\n",
       "      <td>yes</td>\n",
       "      <td>telephone</td>\n",
       "      <td>may</td>\n",
       "      <td>307</td>\n",
       "      <td>1</td>\n",
       "      <td>0</td>\n",
       "      <td>...</td>\n",
       "      <td>93.994</td>\n",
       "      <td>-36.4</td>\n",
       "      <td>4.857</td>\n",
       "      <td>1.0</td>\n",
       "      <td>0.0</td>\n",
       "      <td>0.0</td>\n",
       "      <td>2.0</td>\n",
       "      <td>0.0</td>\n",
       "      <td>0.0</td>\n",
       "      <td>0.0</td>\n",
       "    </tr>\n",
       "  </tbody>\n",
       "</table>\n",
       "<p>5 rows × 22 columns</p>\n",
       "</div>"
      ],
      "text/plain": [
       "   age        job  default housing loan    contact month  duration  campaign  \\\n",
       "0   56  housemaid       no      no   no  telephone   may       261         1   \n",
       "1   57   services  unknown      no   no  telephone   may       149         1   \n",
       "2   37   services       no     yes   no  telephone   may       226         1   \n",
       "3   40     admin.       no      no   no  telephone   may       151         1   \n",
       "4   56   services       no      no  yes  telephone   may       307         1   \n",
       "\n",
       "   previous  ... cons.price.idx  cons.conf.idx  euribor3m  job_coder  \\\n",
       "0         0  ...         93.994          -36.4      4.857        0.0   \n",
       "1         0  ...         93.994          -36.4      4.857        1.0   \n",
       "2         0  ...         93.994          -36.4      4.857        1.0   \n",
       "3         0  ...         93.994          -36.4      4.857        2.0   \n",
       "4         0  ...         93.994          -36.4      4.857        1.0   \n",
       "\n",
       "   default_coder  housing_coder  loan_coder  contact_coder  month_coder  \\\n",
       "0            0.0            0.0         0.0            0.0          0.0   \n",
       "1            1.0            0.0         0.0            0.0          0.0   \n",
       "2            0.0            2.0         0.0            0.0          0.0   \n",
       "3            0.0            0.0         0.0            0.0          0.0   \n",
       "4            0.0            0.0         2.0            0.0          0.0   \n",
       "\n",
       "   poutcome_coder  \n",
       "0             0.0  \n",
       "1             0.0  \n",
       "2             0.0  \n",
       "3             0.0  \n",
       "4             0.0  \n",
       "\n",
       "[5 rows x 22 columns]"
      ]
     },
     "execution_count": 202,
     "metadata": {},
     "output_type": "execute_result"
    }
   ],
   "source": [
    "X_improved.head()"
   ]
  },
  {
   "cell_type": "code",
   "execution_count": 203,
   "metadata": {},
   "outputs": [
    {
     "data": {
      "text/html": [
       "<div>\n",
       "<style scoped>\n",
       "    .dataframe tbody tr th:only-of-type {\n",
       "        vertical-align: middle;\n",
       "    }\n",
       "\n",
       "    .dataframe tbody tr th {\n",
       "        vertical-align: top;\n",
       "    }\n",
       "\n",
       "    .dataframe thead th {\n",
       "        text-align: right;\n",
       "    }\n",
       "</style>\n",
       "<table border=\"1\" class=\"dataframe\">\n",
       "  <thead>\n",
       "    <tr style=\"text-align: right;\">\n",
       "      <th></th>\n",
       "      <th>age</th>\n",
       "      <th>duration</th>\n",
       "      <th>campaign</th>\n",
       "      <th>previous</th>\n",
       "      <th>emp.var.rate</th>\n",
       "      <th>cons.price.idx</th>\n",
       "      <th>cons.conf.idx</th>\n",
       "      <th>euribor3m</th>\n",
       "      <th>job_coder</th>\n",
       "      <th>default_coder</th>\n",
       "      <th>housing_coder</th>\n",
       "      <th>loan_coder</th>\n",
       "      <th>contact_coder</th>\n",
       "      <th>month_coder</th>\n",
       "      <th>poutcome_coder</th>\n",
       "    </tr>\n",
       "  </thead>\n",
       "  <tbody>\n",
       "    <tr>\n",
       "      <th>22237</th>\n",
       "      <td>30</td>\n",
       "      <td>230</td>\n",
       "      <td>1</td>\n",
       "      <td>0</td>\n",
       "      <td>1.4</td>\n",
       "      <td>93.444</td>\n",
       "      <td>-36.1</td>\n",
       "      <td>4.963</td>\n",
       "      <td>4.0</td>\n",
       "      <td>0.0</td>\n",
       "      <td>2.0</td>\n",
       "      <td>0.0</td>\n",
       "      <td>1.0</td>\n",
       "      <td>3.0</td>\n",
       "      <td>0.0</td>\n",
       "    </tr>\n",
       "    <tr>\n",
       "      <th>25049</th>\n",
       "      <td>41</td>\n",
       "      <td>143</td>\n",
       "      <td>3</td>\n",
       "      <td>1</td>\n",
       "      <td>-0.1</td>\n",
       "      <td>93.200</td>\n",
       "      <td>-42.0</td>\n",
       "      <td>4.153</td>\n",
       "      <td>2.0</td>\n",
       "      <td>0.0</td>\n",
       "      <td>0.0</td>\n",
       "      <td>0.0</td>\n",
       "      <td>1.0</td>\n",
       "      <td>5.0</td>\n",
       "      <td>1.0</td>\n",
       "    </tr>\n",
       "    <tr>\n",
       "      <th>24</th>\n",
       "      <td>37</td>\n",
       "      <td>172</td>\n",
       "      <td>1</td>\n",
       "      <td>0</td>\n",
       "      <td>1.1</td>\n",
       "      <td>93.994</td>\n",
       "      <td>-36.4</td>\n",
       "      <td>4.857</td>\n",
       "      <td>2.0</td>\n",
       "      <td>0.0</td>\n",
       "      <td>2.0</td>\n",
       "      <td>0.0</td>\n",
       "      <td>0.0</td>\n",
       "      <td>0.0</td>\n",
       "      <td>0.0</td>\n",
       "    </tr>\n",
       "    <tr>\n",
       "      <th>5318</th>\n",
       "      <td>31</td>\n",
       "      <td>364</td>\n",
       "      <td>2</td>\n",
       "      <td>0</td>\n",
       "      <td>1.1</td>\n",
       "      <td>93.994</td>\n",
       "      <td>-36.4</td>\n",
       "      <td>4.857</td>\n",
       "      <td>3.0</td>\n",
       "      <td>0.0</td>\n",
       "      <td>2.0</td>\n",
       "      <td>0.0</td>\n",
       "      <td>0.0</td>\n",
       "      <td>0.0</td>\n",
       "      <td>0.0</td>\n",
       "    </tr>\n",
       "    <tr>\n",
       "      <th>20275</th>\n",
       "      <td>34</td>\n",
       "      <td>118</td>\n",
       "      <td>3</td>\n",
       "      <td>0</td>\n",
       "      <td>1.4</td>\n",
       "      <td>93.444</td>\n",
       "      <td>-36.1</td>\n",
       "      <td>4.965</td>\n",
       "      <td>2.0</td>\n",
       "      <td>0.0</td>\n",
       "      <td>2.0</td>\n",
       "      <td>0.0</td>\n",
       "      <td>1.0</td>\n",
       "      <td>3.0</td>\n",
       "      <td>0.0</td>\n",
       "    </tr>\n",
       "    <tr>\n",
       "      <th>23466</th>\n",
       "      <td>53</td>\n",
       "      <td>276</td>\n",
       "      <td>2</td>\n",
       "      <td>0</td>\n",
       "      <td>1.4</td>\n",
       "      <td>93.444</td>\n",
       "      <td>-36.1</td>\n",
       "      <td>4.964</td>\n",
       "      <td>4.0</td>\n",
       "      <td>1.0</td>\n",
       "      <td>2.0</td>\n",
       "      <td>2.0</td>\n",
       "      <td>1.0</td>\n",
       "      <td>3.0</td>\n",
       "      <td>0.0</td>\n",
       "    </tr>\n",
       "    <tr>\n",
       "      <th>5712</th>\n",
       "      <td>31</td>\n",
       "      <td>629</td>\n",
       "      <td>2</td>\n",
       "      <td>0</td>\n",
       "      <td>1.1</td>\n",
       "      <td>93.994</td>\n",
       "      <td>-36.4</td>\n",
       "      <td>4.857</td>\n",
       "      <td>3.0</td>\n",
       "      <td>0.0</td>\n",
       "      <td>2.0</td>\n",
       "      <td>2.0</td>\n",
       "      <td>0.0</td>\n",
       "      <td>0.0</td>\n",
       "      <td>0.0</td>\n",
       "    </tr>\n",
       "    <tr>\n",
       "      <th>7112</th>\n",
       "      <td>44</td>\n",
       "      <td>480</td>\n",
       "      <td>2</td>\n",
       "      <td>0</td>\n",
       "      <td>1.1</td>\n",
       "      <td>93.994</td>\n",
       "      <td>-36.4</td>\n",
       "      <td>4.860</td>\n",
       "      <td>3.0</td>\n",
       "      <td>0.0</td>\n",
       "      <td>2.0</td>\n",
       "      <td>0.0</td>\n",
       "      <td>0.0</td>\n",
       "      <td>0.0</td>\n",
       "      <td>0.0</td>\n",
       "    </tr>\n",
       "    <tr>\n",
       "      <th>25202</th>\n",
       "      <td>49</td>\n",
       "      <td>126</td>\n",
       "      <td>4</td>\n",
       "      <td>0</td>\n",
       "      <td>-0.1</td>\n",
       "      <td>93.200</td>\n",
       "      <td>-42.0</td>\n",
       "      <td>4.153</td>\n",
       "      <td>8.0</td>\n",
       "      <td>1.0</td>\n",
       "      <td>2.0</td>\n",
       "      <td>0.0</td>\n",
       "      <td>0.0</td>\n",
       "      <td>5.0</td>\n",
       "      <td>0.0</td>\n",
       "    </tr>\n",
       "    <tr>\n",
       "      <th>20157</th>\n",
       "      <td>33</td>\n",
       "      <td>61</td>\n",
       "      <td>1</td>\n",
       "      <td>0</td>\n",
       "      <td>1.4</td>\n",
       "      <td>93.444</td>\n",
       "      <td>-36.1</td>\n",
       "      <td>4.965</td>\n",
       "      <td>4.0</td>\n",
       "      <td>0.0</td>\n",
       "      <td>2.0</td>\n",
       "      <td>2.0</td>\n",
       "      <td>1.0</td>\n",
       "      <td>3.0</td>\n",
       "      <td>0.0</td>\n",
       "    </tr>\n",
       "  </tbody>\n",
       "</table>\n",
       "</div>"
      ],
      "text/plain": [
       "       age  duration  campaign  previous  emp.var.rate  cons.price.idx  \\\n",
       "22237   30       230         1         0           1.4          93.444   \n",
       "25049   41       143         3         1          -0.1          93.200   \n",
       "24      37       172         1         0           1.1          93.994   \n",
       "5318    31       364         2         0           1.1          93.994   \n",
       "20275   34       118         3         0           1.4          93.444   \n",
       "23466   53       276         2         0           1.4          93.444   \n",
       "5712    31       629         2         0           1.1          93.994   \n",
       "7112    44       480         2         0           1.1          93.994   \n",
       "25202   49       126         4         0          -0.1          93.200   \n",
       "20157   33        61         1         0           1.4          93.444   \n",
       "\n",
       "       cons.conf.idx  euribor3m  job_coder  default_coder  housing_coder  \\\n",
       "22237          -36.1      4.963        4.0            0.0            2.0   \n",
       "25049          -42.0      4.153        2.0            0.0            0.0   \n",
       "24             -36.4      4.857        2.0            0.0            2.0   \n",
       "5318           -36.4      4.857        3.0            0.0            2.0   \n",
       "20275          -36.1      4.965        2.0            0.0            2.0   \n",
       "23466          -36.1      4.964        4.0            1.0            2.0   \n",
       "5712           -36.4      4.857        3.0            0.0            2.0   \n",
       "7112           -36.4      4.860        3.0            0.0            2.0   \n",
       "25202          -42.0      4.153        8.0            1.0            2.0   \n",
       "20157          -36.1      4.965        4.0            0.0            2.0   \n",
       "\n",
       "       loan_coder  contact_coder  month_coder  poutcome_coder  \n",
       "22237         0.0            1.0          3.0             0.0  \n",
       "25049         0.0            1.0          5.0             1.0  \n",
       "24            0.0            0.0          0.0             0.0  \n",
       "5318          0.0            0.0          0.0             0.0  \n",
       "20275         0.0            1.0          3.0             0.0  \n",
       "23466         2.0            1.0          3.0             0.0  \n",
       "5712          2.0            0.0          0.0             0.0  \n",
       "7112          0.0            0.0          0.0             0.0  \n",
       "25202         0.0            0.0          5.0             0.0  \n",
       "20157         2.0            1.0          3.0             0.0  "
      ]
     },
     "execution_count": 203,
     "metadata": {},
     "output_type": "execute_result"
    }
   ],
   "source": [
    "X_improved = X_improved.drop(['job','default','housing','loan','contact','month','poutcome'], axis=1)\n",
    "X_improved.sample(10)"
   ]
  },
  {
   "cell_type": "code",
   "execution_count": 204,
   "metadata": {
    "scrolled": true
   },
   "outputs": [
    {
     "data": {
      "image/png": "[encoded data removed]",
      "text/plain": [
       "<Figure size 1400x800 with 2 Axes>"
      ]
     },
     "metadata": {},
     "output_type": "display_data"
    }
   ],
   "source": [
    "# Correlation matrix and heatmap after dropping the features\n",
    "correlation = X_improved.corr()\n",
    "plt.figure(figsize=(14, 8))\n",
    "sns.heatmap(correlation, annot=True, cmap=\"coolwarm\", fmt=\".2f\", square=True)\n",
    "plt.savefig('images/heap_map3.png')"
   ]
  },
  {
   "cell_type": "markdown",
   "metadata": {},
   "source": [
    "<h3> Splitting the data and standardization </h3>"
   ]
  },
  {
   "cell_type": "code",
   "execution_count": 205,
   "metadata": {},
   "outputs": [],
   "source": [
    "# Split the data for new features\n",
    "X_train_improved, X_test_improved, y_train_improved, y_test_improved = train_test_split(X_improved, y_improved, test_size = 0.25, random_state = 42)"
   ]
  },
  {
   "cell_type": "code",
   "execution_count": 206,
   "metadata": {},
   "outputs": [
    {
     "name": "stdout",
     "output_type": "stream",
     "text": [
      "[ 4.00443819e+01  2.60484801e+02  2.56385355e+00  1.74808197e-01\n",
      "  7.77508012e-02  9.35709885e+01 -4.04900554e+01  3.61737555e+00\n",
      "  3.69350296e+00  2.12877537e-01  1.06924347e+00  3.25531708e-01\n",
      "  6.34165291e-01  2.22695931e+00  1.71991842e-01]\n",
      "----------\n",
      "[ 10.34033241 258.99069714   2.83559874   0.50262448   1.57159255\n",
      "   0.57733298   4.62323873   1.73460528   2.43526851   0.40957896\n",
      "   0.98643954   0.72315292   0.48166345   2.43562541   0.46058625]\n"
     ]
    }
   ],
   "source": [
    "# Standardization\n",
    "scaler = StandardScaler()\n",
    "X_train_scaled_improved = scaler.fit_transform(X_train_improved)\n",
    "X_test_scaled_improved = scaler.fit_transform(X_test_improved)\n",
    "\n",
    "print(scaler.mean_)\n",
    "print('----------')\n",
    "print(scaler.scale_)"
   ]
  },
  {
   "cell_type": "markdown",
   "metadata": {},
   "source": [
    "<h3> Sample modeling for new features </h3>"
   ]
  },
  {
   "cell_type": "code",
   "execution_count": 207,
   "metadata": {
    "scrolled": true
   },
   "outputs": [
    {
     "name": "stdout",
     "output_type": "stream",
     "text": [
      "DTree_Accuracy:  0.88\n",
      "DTree_Precision:  0.48\n",
      "DTree_F1_score:  0.50\n",
      "DTree_ROC_Curve:  0.73\n",
      "DTree_Recall:  0.53\n"
     ]
    }
   ],
   "source": [
    "# Decision Tree\n",
    "dtree_pipe = Pipeline([('dtree', DecisionTreeClassifier(random_state = 42))])\n",
    "dtree_pipe.fit(X_train_scaled_improved, y_train_improved)\n",
    "dtree_predict = dtree_pipe.predict(X_test_scaled_improved)\n",
    "dtree_pre_score = precision_score(y_test_improved, dtree_predict)\n",
    "dtree_recall = recall_score(y_test_improved, dtree_predict)\n",
    "dtree_acc_score = accuracy_score(y_test_improved, dtree_predict)\n",
    "dtree_f1_log = f1_score(y_test_improved,dtree_predict)\n",
    "dtree_roc_auc_log = roc_auc_score(y_test_improved,dtree_predict)\n",
    "\n",
    "print(f'DTree_Accuracy: {dtree_acc_score: .2f}\\nDTree_Precision: {dtree_pre_score: .2f}\\nDTree_F1_score: {dtree_f1_log: .2f}\\nDTree_ROC_Curve: {dtree_roc_auc_log: .2f}\\nDTree_Recall: {dtree_recall: .2f}')"
   ]
  },
  {
   "cell_type": "markdown",
   "metadata": {},
   "source": [
    "<h3> After adding some features the accuracy of Decision Tree Regression is increased to 0.86 from 0.88 as above </h3>"
   ]
  },
  {
   "cell_type": "code",
   "execution_count": 208,
   "metadata": {},
   "outputs": [
    {
     "name": "stdout",
     "output_type": "stream",
     "text": [
      "LR_Accuracy:  0.91\n",
      "LR_Precision:  0.66\n",
      "LR_F1_score:  0.49\n",
      "LR_ROC_Curve:  0.68\n",
      "LR_Recall:  0.39\n"
     ]
    }
   ],
   "source": [
    "#Logistic Regression\n",
    "lr_pipe = Pipeline([ ('lr', LogisticRegression(random_state = 42))])\n",
    "lr_pipe.fit(X_train_scaled_improved, y_train_improved)\n",
    "lr_predict = lr_pipe.predict(X_test_scaled_improved)\n",
    "lr_pre_score = precision_score(y_test_improved, lr_predict)\n",
    "lr_recall = recall_score(y_test_improved, lr_predict)\n",
    "lr_acc_score = accuracy_score(y_test_improved, lr_predict)\n",
    "lr_f1_log = f1_score(y_test_improved,lr_predict)\n",
    "lr_roc_auc_log = roc_auc_score(y_test_improved,lr_predict)\n",
    "                    \n",
    "print(f'LR_Accuracy: {lr_acc_score: .2f}\\nLR_Precision: {lr_pre_score: .2f}\\nLR_F1_score: {lr_f1_log: .2f}\\nLR_ROC_Curve: {lr_roc_auc_log: .2f}\\nLR_Recall: {lr_recall: .2f}')"
   ]
  },
  {
   "cell_type": "markdown",
   "metadata": {},
   "source": [
    "<h3> After adding some features the accuracy of Logistic Regression is increased to 0.91 from 0.89 as above </h3>"
   ]
  },
  {
   "cell_type": "markdown",
   "metadata": {},
   "source": [
    "<h3> Trying a new model Naive Bayes with Cumulative gains Curve</h3>"
   ]
  },
  {
   "cell_type": "code",
   "execution_count": 88,
   "metadata": {},
   "outputs": [
    {
     "name": "stdout",
     "output_type": "stream",
     "text": [
      "Requirement already satisfied: scikit-plot in c:\\users\\pooja\\anaconda3\\lib\\site-packages (0.3.7)\n",
      "Requirement already satisfied: matplotlib>=1.4.0 in c:\\users\\pooja\\anaconda3\\lib\\site-packages (from scikit-plot) (3.8.0)\n",
      "Requirement already satisfied: scikit-learn>=0.18 in c:\\users\\pooja\\anaconda3\\lib\\site-packages (from scikit-plot) (1.2.2)\n",
      "Requirement already satisfied: scipy>=0.9 in c:\\users\\pooja\\anaconda3\\lib\\site-packages (from scikit-plot) (1.11.4)\n",
      "Requirement already satisfied: joblib>=0.10 in c:\\users\\pooja\\anaconda3\\lib\\site-packages (from scikit-plot) (1.2.0)\n",
      "Requirement already satisfied: contourpy>=1.0.1 in c:\\users\\pooja\\anaconda3\\lib\\site-packages (from matplotlib>=1.4.0->scikit-plot) (1.2.0)\n",
      "Requirement already satisfied: cycler>=0.10 in c:\\users\\pooja\\anaconda3\\lib\\site-packages (from matplotlib>=1.4.0->scikit-plot) (0.11.0)\n",
      "Requirement already satisfied: fonttools>=4.22.0 in c:\\users\\pooja\\anaconda3\\lib\\site-packages (from matplotlib>=1.4.0->scikit-plot) (4.25.0)\n",
      "Requirement already satisfied: kiwisolver>=1.0.1 in c:\\users\\pooja\\anaconda3\\lib\\site-packages (from matplotlib>=1.4.0->scikit-plot) (1.4.4)\n",
      "Requirement already satisfied: numpy<2,>=1.21 in c:\\users\\pooja\\anaconda3\\lib\\site-packages (from matplotlib>=1.4.0->scikit-plot) (1.26.4)\n",
      "Requirement already satisfied: packaging>=20.0 in c:\\users\\pooja\\anaconda3\\lib\\site-packages (from matplotlib>=1.4.0->scikit-plot) (23.1)\n",
      "Requirement already satisfied: pillow>=6.2.0 in c:\\users\\pooja\\anaconda3\\lib\\site-packages (from matplotlib>=1.4.0->scikit-plot) (10.2.0)\n",
      "Requirement already satisfied: pyparsing>=2.3.1 in c:\\users\\pooja\\anaconda3\\lib\\site-packages (from matplotlib>=1.4.0->scikit-plot) (3.0.9)\n",
      "Requirement already satisfied: python-dateutil>=2.7 in c:\\users\\pooja\\anaconda3\\lib\\site-packages (from matplotlib>=1.4.0->scikit-plot) (2.8.2)\n",
      "Requirement already satisfied: threadpoolctl>=2.0.0 in c:\\users\\pooja\\anaconda3\\lib\\site-packages (from scikit-learn>=0.18->scikit-plot) (2.2.0)\n",
      "Requirement already satisfied: six>=1.5 in c:\\users\\pooja\\anaconda3\\lib\\site-packages (from python-dateutil>=2.7->matplotlib>=1.4.0->scikit-plot) (1.16.0)\n",
      "Note: you may need to restart the kernel to use updated packages.\n"
     ]
    }
   ],
   "source": [
    "pip install scikit-plot"
   ]
  },
  {
   "cell_type": "code",
   "execution_count": 209,
   "metadata": {
    "scrolled": true
   },
   "outputs": [
    {
     "name": "stdout",
     "output_type": "stream",
     "text": [
      "Train_Score:  0.82\n",
      "Test_Score:  0.82\n"
     ]
    },
    {
     "data": {
      "image/png": "[encoded data removed]",
      "text/plain": [
       "<Figure size 640x480 with 1 Axes>"
      ]
     },
     "metadata": {},
     "output_type": "display_data"
    },
    {
     "data": {
      "text/plain": [
       "<Figure size 640x480 with 0 Axes>"
      ]
     },
     "metadata": {},
     "output_type": "display_data"
    }
   ],
   "source": [
    "import scikitplot as skplt\n",
    "\n",
    "nb_pipe = Pipeline([('nb', GaussianNB())])\n",
    "nb_pipe.fit(X_train_scaled_improved, y_train_improved)\n",
    "nb_pipe_acc_test = nb_pipe.score(X_test_scaled_improved, y_test_improved)\n",
    "nb_pipe_acc_training = nb_pipe.score(X_train_scaled_improved, y_train_improved)\n",
    "predicted_probas = nb_pipe.predict_proba(X_test_scaled_improved)\n",
    "\n",
    "print(f'Train_Score: {nb_pipe_acc_training: .2f}\\nTest_Score: {nb_pipe_acc_test: .2f}')\n",
    "\n",
    "# The magic happens here\n",
    "skplt.metrics.plot_cumulative_gain(y_test_improved, predicted_probas)\n",
    "plt.show()\n",
    "plt.savefig('images/Cumulative Gains Curve.png')"
   ]
  },
  {
   "cell_type": "markdown",
   "metadata": {},
   "source": [
    "<h2> Using Hyperparameters on the different models and evaluating it performance metrics  along with Confusion Matirx and ROC_Curve</h2>"
   ]
  },
  {
   "cell_type": "markdown",
   "metadata": {},
   "source": [
    "<h5> KNN </h5>"
   ]
  },
  {
   "cell_type": "code",
   "execution_count": 210,
   "metadata": {},
   "outputs": [
    {
     "name": "stdout",
     "output_type": "stream",
     "text": [
      "Train_Score:  0.92\n",
      "Test_Score:  0.90\n"
     ]
    }
   ],
   "source": [
    "# KNN with 10 Neighbors\n",
    "knn_pipe_neighbors = Pipeline([('knn', KNeighborsClassifier(n_neighbors = 10))])\n",
    "knn_pipe_neighbors.fit(X_train_scaled_improved, y_train_improved)\n",
    "knn_pipe_neighbors_acc_test = knn_pipe_neighbors.score(X_test_scaled_improved,  y_test_improved)\n",
    "knn_pipe_neighbors_acc_training = knn_pipe_neighbors.score(X_train_scaled_improved, y_train_improved)\n",
    "\n",
    "print(f'Train_Score: {knn_pipe_neighbors_acc_training: .2f}\\nTest_Score: {knn_pipe_neighbors_acc_test: .2f}')"
   ]
  },
  {
   "cell_type": "code",
   "execution_count": 211,
   "metadata": {},
   "outputs": [
    {
     "name": "stdout",
     "output_type": "stream",
     "text": [
      "Train_Score:  0.94\n",
      "Test_Score:  0.92\n",
      "31\n"
     ]
    }
   ],
   "source": [
    "# KNN with Grid Search\n",
    "knn_roc_grid = GridSearchCV(knn_pipe, param_grid={'knn__n_neighbors': range(1, 33, 2)}, scoring = 'roc_auc')\n",
    "knn_roc_grid.fit(X_train_scaled_improved, y_train_improved)\n",
    "knn_roc_grid_acc_test = knn_roc_grid.score(X_test_scaled_improved,  y_test_improved)\n",
    "knn_roc_grid_acc_training = knn_roc_grid.score(X_train_scaled_improved, y_train_improved)\n",
    "\n",
    "print(f'Train_Score: {knn_roc_grid_acc_training: .2f}\\nTest_Score: {knn_roc_grid_acc_test: .2f}')\n",
    "best_k = knn_roc_grid.best_params_['knn__n_neighbors']\n",
    "print(best_k)"
   ]
  },
  {
   "cell_type": "code",
   "execution_count": 212,
   "metadata": {},
   "outputs": [
    {
     "data": {
      "image/png": "[encoded data removed]",
      "text/plain": [
       "<Figure size 640x480 with 1 Axes>"
      ]
     },
     "metadata": {},
     "output_type": "display_data"
    }
   ],
   "source": [
    "fig, ax = plt.subplots()\n",
    "RocCurveDisplay.from_estimator(knn_roc_grid, X_test_scaled_improved,  y_test_improved, pos_label = 1, ax = ax, label = 'Grid Search: 29 Neighbors')\n",
    "RocCurveDisplay.from_estimator(knn_pipe_neighbors, X_test_scaled_improved,  y_test_improved, pos_label = 1, ax = ax, label = '10 Neighbors')\n",
    "plt.grid()\n",
    "plt.plot(np.arange(0, 1.1, .1), np.arange(0, 1.1, .1), label = 'baseline');\n",
    "plt.title('Using RocCurveDisplay')\n",
    "plt.legend();\n",
    "plt.savefig('images/roc_curve.png')"
   ]
  },
  {
   "cell_type": "markdown",
   "metadata": {},
   "source": [
    "<h5> Logictic Regression </h5>"
   ]
  },
  {
   "cell_type": "code",
   "execution_count": 213,
   "metadata": {},
   "outputs": [
    {
     "name": "stdout",
     "output_type": "stream",
     "text": [
      "LR_Accuracy:  0.91\n",
      "LR_Precision:  0.66\n",
      "LR_F1_score:  0.49\n",
      "LR_ROC_Curve:  0.68\n",
      "LR_Recall:  0.39\n",
      "Train_Score:  0.91\n",
      "Test_Score:  0.92\n"
     ]
    }
   ],
   "source": [
    "#Logistic Regression different hyperparameters\n",
    "lr_pipe_params = LogisticRegression(C = 0.1, penalty = 'l1', solver = 'liblinear', \n",
    "                                                                           max_iter = 1000, random_state = 42)\n",
    "lr_pipe_params.fit(X_train_scaled_improved, y_train_improved)\n",
    "lr_predict = lr_pipe_params.predict(X_test_scaled_improved)\n",
    "lr_training_score = lr_pipe_params.score(X_train_scaled_improved, y_train_improved)\n",
    "lr_test_score = lr_pipe_params.score(X_test_scaled_improved,  y_test_improved)\n",
    "lr_pre_score = precision_score( y_test_improved, lr_predict)\n",
    "lr_recall = recall_score( y_test_improved, lr_predict)\n",
    "lr_acc_score = accuracy_score( y_test_improved, lr_predict)\n",
    "lr_f1_log = f1_score( y_test_improved,lr_predict)\n",
    "lr_roc_auc_log = roc_auc_score( y_test_improved,lr_predict)\n",
    "                    \n",
    "print(f'LR_Accuracy: {lr_acc_score: .2f}\\nLR_Precision: {lr_pre_score: .2f}\\nLR_F1_score: {lr_f1_log: .2f}\\nLR_ROC_Curve: {lr_roc_auc_log: .2f}\\nLR_Recall: {lr_recall: .2f}\\nTrain_Score: {lr_training_score: .2f}\\nTest_Score: {knn_roc_grid_acc_test: .2f}')"
   ]
  },
  {
   "cell_type": "code",
   "execution_count": 214,
   "metadata": {},
   "outputs": [
    {
     "data": {
      "text/plain": [
       "(234, 703, 0.93)"
      ]
     },
     "execution_count": 214,
     "metadata": {},
     "output_type": "execute_result"
    },
    {
     "data": {
      "image/png": "[encoded data removed]",
      "text/plain": [
       "<Figure size 1200x1200 with 3 Axes>"
      ]
     },
     "metadata": {},
     "output_type": "display_data"
    }
   ],
   "source": [
    "# ROC Curve with Confusion matrix \n",
    "from sklearn.metrics import auc as skl_auc\n",
    "\n",
    "fig, ax = plt.subplots(1, 2)\n",
    "fig.set_size_inches(12, 12)\n",
    "\n",
    "preds = lr_pipe_params.predict(X_test_scaled_improved)\n",
    "\n",
    "# Confusion Matrix\n",
    "conf_matrix = confusion_matrix( y_test_improved, preds)\n",
    "disp1 = ConfusionMatrixDisplay(conf_matrix)\n",
    "disp1.plot(ax=ax[0])\n",
    "\n",
    "# ROC Curve\n",
    "y_score = lr_pipe_params.predict_proba(X_test_scaled_improved)[:, 1]\n",
    "fpr, tpr, thresholds = roc_curve( y_test_improved, y_score, pos_label=1)\n",
    "roc_auc_value = skl_auc(fpr, tpr)\n",
    "\n",
    "disp2 = RocCurveDisplay(fpr=fpr, tpr=tpr, roc_auc=roc_auc_value)\n",
    "disp2.plot(ax=ax[1])\n",
    "plt.savefig('images/roc_curve1.png')\n",
    "\n",
    "fp = conf_matrix[0][1]\n",
    "fn = conf_matrix[1][0]\n",
    "auc = round(roc_auc_value, 2)\n",
    "\n",
    "fp, fn, auc"
   ]
  },
  {
   "cell_type": "code",
   "execution_count": 215,
   "metadata": {},
   "outputs": [
    {
     "data": {
      "text/plain": [
       "array([-1.55385064e-04,  3.80110712e-02,  1.16538798e-04,  4.07885792e-04,\n",
       "        3.31552879e-02,  2.32689133e-02,  2.29192969e-03,  0.00000000e+00,\n",
       "        9.71156648e-05,  6.99232786e-04,  0.00000000e+00,  0.00000000e+00,\n",
       "        2.60269982e-03,  6.02117121e-04,  7.98290764e-03])"
      ]
     },
     "execution_count": 215,
     "metadata": {},
     "output_type": "execute_result"
    }
   ],
   "source": [
    "#feature importance evaluation :\n",
    "r1 = permutation_importance(lr_pipe_params, X_test_scaled_improved, y_test_improved, random_state = 42)\n",
    "r1.importances_mean"
   ]
  },
  {
   "cell_type": "code",
   "execution_count": 217,
   "metadata": {},
   "outputs": [
    {
     "name": "stdout",
     "output_type": "stream",
     "text": [
      "('age', -0.00033019326017285077)\n",
      "('duration', -0.0006992327862483938)\n",
      "('campaign', -0.0011848111100320358)\n",
      "('previous', 0.0022919296882587537)\n",
      "('emp.var.rate', -0.0006021171214916742)\n",
      "('cons.price.idx', -0.0001942313295133946)\n",
      "('cons.conf.idx', -0.0004078857919782131)\n",
      "('euribor3m', 0.004700398174225562)\n"
     ]
    }
   ],
   "source": [
    "for i in zip(X_improved.columns, r.importances_mean):\n",
    "    print(i)"
   ]
  },
  {
   "cell_type": "markdown",
   "metadata": {},
   "source": [
    "<h5> I did not use the multiclass hyper parameter for this dataset as we are delaying with only 2 class in this dataset.</h5>"
   ]
  },
  {
   "cell_type": "markdown",
   "metadata": {},
   "source": [
    "<h5> Decision Tree </h5>"
   ]
  },
  {
   "cell_type": "code",
   "execution_count": 218,
   "metadata": {},
   "outputs": [],
   "source": [
    "# Decision Tree with Hyperparametrs\n",
    "params = {'max_depth': [1,5,8,10],\n",
    "         'min_samples_split': [0.1, 0.2, 0.05],\n",
    "          'criterion': ['gini','entropy'],\n",
    "          'min_samples_leaf': [1,3,5,7]\n",
    "         }"
   ]
  },
  {
   "cell_type": "code",
   "execution_count": 219,
   "metadata": {},
   "outputs": [],
   "source": [
    "dtree = DecisionTreeClassifier()"
   ]
  },
  {
   "cell_type": "code",
   "execution_count": 220,
   "metadata": {},
   "outputs": [
    {
     "name": "stdout",
     "output_type": "stream",
     "text": [
      "Best score: 0.9075782586524781\n",
      "Best params: {'criterion': 'gini', 'max_depth': 5, 'min_samples_leaf': 1, 'min_samples_split': 0.05}\n",
      "Training Score: 0.9082256968048946\n",
      "Test Score: 0.9115276294066232\n"
     ]
    }
   ],
   "source": [
    "results = GridSearchCV(dtree, param_grid=params).fit(X_train_scaled_improved, y_train_improved)\n",
    "best_score = results.best_score_\n",
    "best_params = results.best_params_\n",
    "grid_train_acc = results.score(X_train_scaled_improved, y_train_improved)\n",
    "grid_test_acc = results.score(X_test_scaled_improved,  y_test_improved)\n",
    "print(f'Best score: {best_score}')\n",
    "print(f'Best params: {best_params}')\n",
    "print(f'Training Score: {grid_train_acc}')\n",
    "print(f'Test Score: {grid_test_acc}')"
   ]
  },
  {
   "cell_type": "markdown",
   "metadata": {},
   "source": [
    "<h5> SVM </h5>"
   ]
  },
  {
   "cell_type": "code",
   "execution_count": 102,
   "metadata": {},
   "outputs": [],
   "source": [
    "params = {'kernel': ['rbf', 'poly', 'linear', 'sigmoid'],\n",
    "         'gamma': [0.1, 1.0, 10.0, 100.0],}"
   ]
  },
  {
   "cell_type": "code",
   "execution_count": 103,
   "metadata": {},
   "outputs": [],
   "source": [
    "svc = SVC()"
   ]
  },
  {
   "cell_type": "code",
   "execution_count": null,
   "metadata": {},
   "outputs": [],
   "source": [
    "grid_svc = GridSearchCV(svc, param_grid=params, cv=5).fit(X_train_scaled_improved, y_train_improved)\n",
    "grid_train_acc_svc = grid_svc.score(X_train_scaled_improved, y_train_improved)\n",
    "grid_test_acc_svc = grid_svc.score(X_test_scaled_improved,  y_test_improved)\n",
    "\n",
    "best_score_svc = results.best_score_\n",
    "best_params_svc = results.best_params_\n",
    "\n",
    "print(f'Best score: {best_score_svc}')\n",
    "print(f'Best params: {best_params_svc}')\n",
    "print(f'Training Score: {grid_train_acc_svc}')\n",
    "print(f'Test Score: {grid_test_acc_svc}')"
   ]
  },
  {
   "cell_type": "markdown",
   "metadata": {},
   "source": [
    "<h3> For the above Grid Search , i could not complete the run it took more than 2 hrs and systems was crashed multiple times </h3>"
   ]
  },
  {
   "cell_type": "code",
   "execution_count": 227,
   "metadata": {
    "scrolled": false
   },
   "outputs": [
    {
     "name": "stdout",
     "output_type": "stream",
     "text": [
      "Logistic Regression Coefficients:\n",
      "[[-0.00681702  1.1473752  -0.10161092 -0.14935713 -1.39759415  0.82236755\n",
      "   0.29927874  0.          0.02311374 -0.16189428  0.          0.\n",
      "   0.39730866  0.17859562  0.30016856]]\n",
      "\n",
      "Intercept: [-3.00225943]\n"
     ]
    }
   ],
   "source": [
    "# Get the coefficients and the intercept from the best model Logistic Regression with hyperparameters model\n",
    "coefficients = lr_pipe_params.coef_\n",
    "intercept = lr_pipe_params.intercept_\n",
    "\n",
    "print(\"Logistic Regression Coefficients:\")\n",
    "print(coefficients)\n",
    "print(\"\\nIntercept:\", intercept)"
   ]
  },
  {
   "cell_type": "code",
   "execution_count": 230,
   "metadata": {},
   "outputs": [
    {
     "data": {
      "text/plain": [
       "Index(['age', 'duration', 'campaign', 'previous', 'emp.var.rate',\n",
       "       'cons.price.idx', 'cons.conf.idx', 'euribor3m', 'job_coder',\n",
       "       'default_coder', 'housing_coder', 'loan_coder', 'contact_coder',\n",
       "       'month_coder', 'poutcome_coder'],\n",
       "      dtype='object')"
      ]
     },
     "execution_count": 230,
     "metadata": {},
     "output_type": "execute_result"
    }
   ],
   "source": [
    "X_improved.columns"
   ]
  },
  {
   "cell_type": "markdown",
   "metadata": {},
   "source": [
    "| Feature |Recommendation | Coefficient Value | Impact | Interpretation \n",
    "| :- | -: | -: | -: | :-: |\n",
    "| age | <center> Even though the age is not impacted factor we still need to do a proper check on the user age. </center> | -0.00681702 | Strong Negative  |Has no impact on the subscribers deposit and inturn campaign success.however it shows a negative value which means the model needs to be improved.\n",
    "| duration | <center> User has to understand all the teram and conditions prior to subscribing a deposit with the help of this phone call.</center> | 1.1473752 | Strong Positive | Is am important factor to have a successful campaign based on the duration of the phone call, if the duration is '0' it is a no.\n",
    "| campaign | <center> This feature depends on the duration feature and its subscribers. </center>|-0.10161092  | Strong Negative | Has does impact the deposit subscribers a much extend.however it shows a negative value which means the model needs to be improved.\n",
    "| previous | <center> This feature can still be ipoved as the calls made previously to the campagn can also be followed again to get a success. </center> | -0.14935713 | Strong Negative | Has no impact on the depesot subsribers.however it shows a negative value which means the model needs to be improved.\n",
    "| emp.var.rate | <center> Employee variable rate has not impact on the deposit subsribers. </center> |-1.39759415 |Strong Negative | Has no impact on the depesot subsribers.however it shows a negative value which means the model needs to be improved.\n",
    "| cons.price.idx | <center> Consumer price index will impact the interest rates and inturn the deposit subsribers , be careful when we consider this. </center> | 0.82236755| Strong Positive  | Consumer price index - monthly indicator is a strong factor to decide the deposit subscribers.\n",
    "| cons.conf.idx | <center>Consumer confidence index, this is fair feature to consider as it shows the future market and inturn impact the deposit interst rates. </center> | 0.29927874 |Significant Positive | Consumer confidence index - monthly indicator is important to a certain extend that can give insights each cosumer personal infomartion.\n",
    "| euribor3m | <center> No specific recommendation needed based on this feature. </center> | 0. | None | Does not contribe in predicting the deposit subscribers for campign success.\n",
    "| job_coder | <center> No specific recommendation needed based on this feature. </center> | 0.02311374 | None |Does not contribe in predicting the deposit subscribers for campign success.\n",
    "| default_coder | <center> There is achance having a credit will impact on the crediblity of a consumer </center> | -0.16189428 | Strong Negative |Has no impact on the depesot subsribers.however it shows a negative value which means the model needs to be improved.\n",
    "| housing_coder | <center> No specific recommendation needed based on this feature. </center> | 0.  | None | Does not contribe in predicting the deposit subscribers for campign success.\n",
    "| loan_coder | <center>No specific recommendation needed based on this feature.  </center> | 0.  | None | Does not contribe in predicting the deposit subscribers for campign success.\n",
    "| contact_coder | <center> Yes feature can varying for every user. </center> |0.39730866  | Significant Positive |Important to a certain extend that can give insights each cosumer personal infomartion.\n",
    "| month_coder | <center> Follow up to the client every month based on previous months infomration </center> | 0.17859562 | Significant Positive | Important to a certain extend that can give insights each cosumer personal infomartion.\n",
    "| poutcome_coder | <center> Having a previous success campign can give a positive impact on the next steps. </center> | 0.30016856 |Significant Positive  | Important to a certain extend that can give insights each cosumer personal infomartion."
   ]
  },
  {
   "cell_type": "code",
   "execution_count": null,
   "metadata": {},
   "outputs": [],
   "source": []
  },
  {
   "cell_type": "code",
   "execution_count": null,
   "metadata": {},
   "outputs": [],
   "source": []
  },
  {
   "cell_type": "code",
   "execution_count": null,
   "metadata": {},
   "outputs": [],
   "source": []
  }
 ],
 "metadata": {
  "kernelspec": {
   "display_name": "Python 3 (ipykernel)",
   "language": "python",
   "name": "python3"
  },
  "language_info": {
   "codemirror_mode": {
    "name": "ipython",
    "version": 3
   },
   "file_extension": ".py",
   "mimetype": "text/x-python",
   "name": "python",
   "nbconvert_exporter": "python",
   "pygments_lexer": "ipython3",
   "version": "3.11.7"
  },
  "widgets": {
   "application/vnd.jupyter.widget-state+json": {
    "state": {},
    "version_major": 2,
    "version_minor": 0
   }
  }
 },
 "nbformat": 4,
 "nbformat_minor": 4
}
